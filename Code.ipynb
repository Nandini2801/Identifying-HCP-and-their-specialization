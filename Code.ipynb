{
  "cells": [
    {
      "cell_type": "markdown",
      "source": [
        "## Identifying Healthcare Professionals(HCP) and their specialization"
      ],
      "metadata": {
        "id": "FX_sA8o5mhF2"
      }
    },
    {
      "cell_type": "markdown",
      "metadata": {
        "id": "v46FywgoHkqe"
      },
      "source": [
        "***Mounting drive in order to use files stored on google drive***"
      ]
    },
    {
      "cell_type": "code",
      "execution_count": null,
      "metadata": {
        "colab": {
          "base_uri": "https://localhost:8080/"
        },
        "id": "3dKYkDR7jrjp",
        "outputId": "83855f2b-d96b-4646-ab17-6d0815e087da"
      },
      "outputs": [
        {
          "output_type": "stream",
          "name": "stdout",
          "text": [
            "Drive already mounted at /content/drive; to attempt to forcibly remount, call drive.mount(\"/content/drive\", force_remount=True).\n"
          ]
        }
      ],
      "source": [
        "from google.colab import drive\n",
        "drive.mount('/content/drive')"
      ]
    },
    {
      "cell_type": "markdown",
      "metadata": {
        "id": "Phm-kN4dHYDK"
      },
      "source": [
        "***Importing neccessary modules***"
      ]
    },
    {
      "cell_type": "code",
      "execution_count": null,
      "metadata": {
        "id": "SoKdqDk7jjcZ"
      },
      "outputs": [],
      "source": [
        "\n",
        "import numpy as np # linear algebra\n",
        "import pandas as pd # data processing, CSV file I/O (e.g. pd.read_csv)\n",
        "import seaborn as sns # deluxe visualization library\n",
        "import matplotlib.pyplot as plt # visualization library to support seaborn\n",
        "%matplotlib inline\n",
        "import string\n"
      ]
    },
    {
      "cell_type": "markdown",
      "metadata": {
        "id": "hS_C7yT6IGkw"
      },
      "source": [
        "***Providing the path for*** *complete_data file* ***file stored in drive***"
      ]
    },
    {
      "cell_type": "code",
      "execution_count": null,
      "metadata": {
        "id": "EIMdVh1tj_y1",
        "colab": {
          "base_uri": "https://localhost:8080/",
          "height": 1000
        },
        "outputId": "ce66242f-bef5-4bc8-d904-98379002e3c4"
      },
      "outputs": [
        {
          "output_type": "execute_result",
          "data": {
            "text/plain": [
              "            ID DEVICETYPE  PLATFORM_ID    BIDREQUESTIP  \\\n",
              "0         1001    Desktop            2    170.173.0.22   \n",
              "1         1002    Desktop            2   65.216.253.25   \n",
              "2         1003    Desktop            2    66.232.79.22   \n",
              "3         1004    Desktop            3  137.54.125.246   \n",
              "4         1005     Mobile            7  174.202.231.99   \n",
              "...        ...        ...          ...             ...   \n",
              "113932  114933    Desktop            2    68.82.97.126   \n",
              "113933  114934    Desktop            2  104.172.11.109   \n",
              "113934  114935    Desktop            7   174.21.94.113   \n",
              "113935  114936     Mobile            2  69.253.129.131   \n",
              "113936  114937     Mobile            2  108.41.233.175   \n",
              "\n",
              "                             USERPLATFORMUID      USERCITY  USERZIPCODE  \\\n",
              "0       6974dcaa-f932-480e-9fb5-c52e20e1393a      Portland      97206.0   \n",
              "1       c12f3f8f-8fcf-484a-90e1-1ac04db8cdcf     Arlington      22202.0   \n",
              "2       a698de4b-e200-46dd-b5fb-40402175ae18   New Meadows      83654.0   \n",
              "3       45967533-75c8-4fbd-a00c-e6ff20447aaa           NaN  229114624.0   \n",
              "4       a17e25be-532d-4cf5-b916-9308c8c3961f       Houston      77008.0   \n",
              "...                                      ...           ...          ...   \n",
              "113932  051e4a06-4cb4-4b97-b0b1-d1c6a2b8e2c2  Philadelphia      19120.0   \n",
              "113933  3289bba5-4a50-4b61-a5cc-68596bbdc2bf      Van Nuys  914014213.0   \n",
              "113934  9c36e90c-caa7-4323-8431-fb84f8293972           NaN      98105.0   \n",
              "113935  afc27760-31f7-4f6e-aa08-90d8a96525d0    Wilmington      19808.0   \n",
              "113936  d26887c5-15f9-4b72-80dc-728039529e60  White Plains      10605.0   \n",
              "\n",
              "                                                USERAGENT  \\\n",
              "0       Mozilla/5.0 (Windows NT 10.0; Win64; x64) Appl...   \n",
              "1       Mozilla/5.0 (Macintosh; Intel Mac OS X 10_15_7...   \n",
              "2       Mozilla/5.0 (Macintosh; Intel Mac OS X 10_15_7...   \n",
              "3       Mozilla/5.0 (Windows NT 10.0; Win64; x64) Appl...   \n",
              "4       Mozilla/5.0 (iPhone; CPU iPhone OS 16_1_1 like...   \n",
              "...                                                   ...   \n",
              "113932  Mozilla/5.0 (Macintosh; Intel Mac OS X 10_15_6...   \n",
              "113933  Mozilla/5.0 (Windows NT 6.1; Win64; x64) Apple...   \n",
              "113934  Mozilla/5.0 (Macintosh; Intel Mac OS X 10_15_7...   \n",
              "113935  Mozilla/5.0 (iPhone; CPU iPhone OS 15_6_1 like...   \n",
              "113936  Mozilla/5.0 (iPhone; CPU iPhone OS 16_1 like M...   \n",
              "\n",
              "                  PLATFORMTYPE CHANNELTYPE  \\\n",
              "0       Online Medical Journal     Website   \n",
              "1       Online Medical Journal     Website   \n",
              "2       Online Medical Journal     Website   \n",
              "3       Online Medical Journal     Website   \n",
              "4       Online Medical Journal     Website   \n",
              "...                        ...         ...   \n",
              "113932  Online Medical Journal     Website   \n",
              "113933  Online Medical Journal     Website   \n",
              "113934  Online Medical Journal     Website   \n",
              "113935  Online Medical Journal     Website   \n",
              "113936  Online Medical Journal     Website   \n",
              "\n",
              "                                                      URL  \\\n",
              "0       https://www.cancertherapyadvisor.com/home/canc...   \n",
              "1       https://www.cancertherapyadvisor.com/home/deci...   \n",
              "2       https://www.cancertherapyadvisor.com/home/canc...   \n",
              "3       https://globalrph.com/medcalcs/warfarin-mainte...   \n",
              "4       https://www.cureus.com/articles/58184-a-review...   \n",
              "...                                                   ...   \n",
              "113932  https://www.clinicaladvisor.com/home/consultat...   \n",
              "113933  https://www.clinicaladvisor.com/home/features/...   \n",
              "113934  https://www.cureus.com/articles/39455-whats-th...   \n",
              "113935  https://www.dermatologyadvisor.com/home/topics...   \n",
              "113936                        https://www.medicalbag.com/   \n",
              "\n",
              "                                                 KEYWORDS    TAXONOMY  IS_HCP  \n",
              "0       General|Endocrine|False|Medicine|Surgery|Urolo...         NaN     0.0  \n",
              "1       Bone Marrow|Radiography|Chronic|Oncology|Psych...         NaN     0.0  \n",
              "2       General|Endocrine|False|Medicine|Surgery|Urolo...         NaN     0.0  \n",
              "3       Dental|Total|Clinical|Pharmacology|Physicians|...  2084P0800X     1.0  \n",
              "4       Critical Care|Emergency Medicine|General Pract...         NaN     0.0  \n",
              "...                                                   ...         ...     ...  \n",
              "113932  Cardiovascular|Clinical|False|Male|Oncology|Ps...  207RP1001X     1.0  \n",
              "113933  Asthma|Arthritis|General|Clinical|Diagnosis|Rh...  2084P0800X     1.0  \n",
              "113934  Rehabilitation|Transplantation|Clinical|Preven...  208000000X     1.0  \n",
              "113935  pain|disease|autoimmune|multiple sclerosis|gra...  2084P0800X     1.0  \n",
              "113936  Genetic|Large|Autoimmune|Health|False|Abortion...  2084P0800X     1.0  \n",
              "\n",
              "[113937 rows x 14 columns]"
            ],
            "text/html": [
              "\n",
              "  <div id=\"df-33d28a2b-2767-4d24-bcaf-db64cf6323ac\">\n",
              "    <div class=\"colab-df-container\">\n",
              "      <div>\n",
              "<style scoped>\n",
              "    .dataframe tbody tr th:only-of-type {\n",
              "        vertical-align: middle;\n",
              "    }\n",
              "\n",
              "    .dataframe tbody tr th {\n",
              "        vertical-align: top;\n",
              "    }\n",
              "\n",
              "    .dataframe thead th {\n",
              "        text-align: right;\n",
              "    }\n",
              "</style>\n",
              "<table border=\"1\" class=\"dataframe\">\n",
              "  <thead>\n",
              "    <tr style=\"text-align: right;\">\n",
              "      <th></th>\n",
              "      <th>ID</th>\n",
              "      <th>DEVICETYPE</th>\n",
              "      <th>PLATFORM_ID</th>\n",
              "      <th>BIDREQUESTIP</th>\n",
              "      <th>USERPLATFORMUID</th>\n",
              "      <th>USERCITY</th>\n",
              "      <th>USERZIPCODE</th>\n",
              "      <th>USERAGENT</th>\n",
              "      <th>PLATFORMTYPE</th>\n",
              "      <th>CHANNELTYPE</th>\n",
              "      <th>URL</th>\n",
              "      <th>KEYWORDS</th>\n",
              "      <th>TAXONOMY</th>\n",
              "      <th>IS_HCP</th>\n",
              "    </tr>\n",
              "  </thead>\n",
              "  <tbody>\n",
              "    <tr>\n",
              "      <th>0</th>\n",
              "      <td>1001</td>\n",
              "      <td>Desktop</td>\n",
              "      <td>2</td>\n",
              "      <td>170.173.0.22</td>\n",
              "      <td>6974dcaa-f932-480e-9fb5-c52e20e1393a</td>\n",
              "      <td>Portland</td>\n",
              "      <td>97206.0</td>\n",
              "      <td>Mozilla/5.0 (Windows NT 10.0; Win64; x64) Appl...</td>\n",
              "      <td>Online Medical Journal</td>\n",
              "      <td>Website</td>\n",
              "      <td>https://www.cancertherapyadvisor.com/home/canc...</td>\n",
              "      <td>General|Endocrine|False|Medicine|Surgery|Urolo...</td>\n",
              "      <td>NaN</td>\n",
              "      <td>0.0</td>\n",
              "    </tr>\n",
              "    <tr>\n",
              "      <th>1</th>\n",
              "      <td>1002</td>\n",
              "      <td>Desktop</td>\n",
              "      <td>2</td>\n",
              "      <td>65.216.253.25</td>\n",
              "      <td>c12f3f8f-8fcf-484a-90e1-1ac04db8cdcf</td>\n",
              "      <td>Arlington</td>\n",
              "      <td>22202.0</td>\n",
              "      <td>Mozilla/5.0 (Macintosh; Intel Mac OS X 10_15_7...</td>\n",
              "      <td>Online Medical Journal</td>\n",
              "      <td>Website</td>\n",
              "      <td>https://www.cancertherapyadvisor.com/home/deci...</td>\n",
              "      <td>Bone Marrow|Radiography|Chronic|Oncology|Psych...</td>\n",
              "      <td>NaN</td>\n",
              "      <td>0.0</td>\n",
              "    </tr>\n",
              "    <tr>\n",
              "      <th>2</th>\n",
              "      <td>1003</td>\n",
              "      <td>Desktop</td>\n",
              "      <td>2</td>\n",
              "      <td>66.232.79.22</td>\n",
              "      <td>a698de4b-e200-46dd-b5fb-40402175ae18</td>\n",
              "      <td>New Meadows</td>\n",
              "      <td>83654.0</td>\n",
              "      <td>Mozilla/5.0 (Macintosh; Intel Mac OS X 10_15_7...</td>\n",
              "      <td>Online Medical Journal</td>\n",
              "      <td>Website</td>\n",
              "      <td>https://www.cancertherapyadvisor.com/home/canc...</td>\n",
              "      <td>General|Endocrine|False|Medicine|Surgery|Urolo...</td>\n",
              "      <td>NaN</td>\n",
              "      <td>0.0</td>\n",
              "    </tr>\n",
              "    <tr>\n",
              "      <th>3</th>\n",
              "      <td>1004</td>\n",
              "      <td>Desktop</td>\n",
              "      <td>3</td>\n",
              "      <td>137.54.125.246</td>\n",
              "      <td>45967533-75c8-4fbd-a00c-e6ff20447aaa</td>\n",
              "      <td>NaN</td>\n",
              "      <td>229114624.0</td>\n",
              "      <td>Mozilla/5.0 (Windows NT 10.0; Win64; x64) Appl...</td>\n",
              "      <td>Online Medical Journal</td>\n",
              "      <td>Website</td>\n",
              "      <td>https://globalrph.com/medcalcs/warfarin-mainte...</td>\n",
              "      <td>Dental|Total|Clinical|Pharmacology|Physicians|...</td>\n",
              "      <td>2084P0800X</td>\n",
              "      <td>1.0</td>\n",
              "    </tr>\n",
              "    <tr>\n",
              "      <th>4</th>\n",
              "      <td>1005</td>\n",
              "      <td>Mobile</td>\n",
              "      <td>7</td>\n",
              "      <td>174.202.231.99</td>\n",
              "      <td>a17e25be-532d-4cf5-b916-9308c8c3961f</td>\n",
              "      <td>Houston</td>\n",
              "      <td>77008.0</td>\n",
              "      <td>Mozilla/5.0 (iPhone; CPU iPhone OS 16_1_1 like...</td>\n",
              "      <td>Online Medical Journal</td>\n",
              "      <td>Website</td>\n",
              "      <td>https://www.cureus.com/articles/58184-a-review...</td>\n",
              "      <td>Critical Care|Emergency Medicine|General Pract...</td>\n",
              "      <td>NaN</td>\n",
              "      <td>0.0</td>\n",
              "    </tr>\n",
              "    <tr>\n",
              "      <th>...</th>\n",
              "      <td>...</td>\n",
              "      <td>...</td>\n",
              "      <td>...</td>\n",
              "      <td>...</td>\n",
              "      <td>...</td>\n",
              "      <td>...</td>\n",
              "      <td>...</td>\n",
              "      <td>...</td>\n",
              "      <td>...</td>\n",
              "      <td>...</td>\n",
              "      <td>...</td>\n",
              "      <td>...</td>\n",
              "      <td>...</td>\n",
              "      <td>...</td>\n",
              "    </tr>\n",
              "    <tr>\n",
              "      <th>113932</th>\n",
              "      <td>114933</td>\n",
              "      <td>Desktop</td>\n",
              "      <td>2</td>\n",
              "      <td>68.82.97.126</td>\n",
              "      <td>051e4a06-4cb4-4b97-b0b1-d1c6a2b8e2c2</td>\n",
              "      <td>Philadelphia</td>\n",
              "      <td>19120.0</td>\n",
              "      <td>Mozilla/5.0 (Macintosh; Intel Mac OS X 10_15_6...</td>\n",
              "      <td>Online Medical Journal</td>\n",
              "      <td>Website</td>\n",
              "      <td>https://www.clinicaladvisor.com/home/consultat...</td>\n",
              "      <td>Cardiovascular|Clinical|False|Male|Oncology|Ps...</td>\n",
              "      <td>207RP1001X</td>\n",
              "      <td>1.0</td>\n",
              "    </tr>\n",
              "    <tr>\n",
              "      <th>113933</th>\n",
              "      <td>114934</td>\n",
              "      <td>Desktop</td>\n",
              "      <td>2</td>\n",
              "      <td>104.172.11.109</td>\n",
              "      <td>3289bba5-4a50-4b61-a5cc-68596bbdc2bf</td>\n",
              "      <td>Van Nuys</td>\n",
              "      <td>914014213.0</td>\n",
              "      <td>Mozilla/5.0 (Windows NT 6.1; Win64; x64) Apple...</td>\n",
              "      <td>Online Medical Journal</td>\n",
              "      <td>Website</td>\n",
              "      <td>https://www.clinicaladvisor.com/home/features/...</td>\n",
              "      <td>Asthma|Arthritis|General|Clinical|Diagnosis|Rh...</td>\n",
              "      <td>2084P0800X</td>\n",
              "      <td>1.0</td>\n",
              "    </tr>\n",
              "    <tr>\n",
              "      <th>113934</th>\n",
              "      <td>114935</td>\n",
              "      <td>Desktop</td>\n",
              "      <td>7</td>\n",
              "      <td>174.21.94.113</td>\n",
              "      <td>9c36e90c-caa7-4323-8431-fb84f8293972</td>\n",
              "      <td>NaN</td>\n",
              "      <td>98105.0</td>\n",
              "      <td>Mozilla/5.0 (Macintosh; Intel Mac OS X 10_15_7...</td>\n",
              "      <td>Online Medical Journal</td>\n",
              "      <td>Website</td>\n",
              "      <td>https://www.cureus.com/articles/39455-whats-th...</td>\n",
              "      <td>Rehabilitation|Transplantation|Clinical|Preven...</td>\n",
              "      <td>208000000X</td>\n",
              "      <td>1.0</td>\n",
              "    </tr>\n",
              "    <tr>\n",
              "      <th>113935</th>\n",
              "      <td>114936</td>\n",
              "      <td>Mobile</td>\n",
              "      <td>2</td>\n",
              "      <td>69.253.129.131</td>\n",
              "      <td>afc27760-31f7-4f6e-aa08-90d8a96525d0</td>\n",
              "      <td>Wilmington</td>\n",
              "      <td>19808.0</td>\n",
              "      <td>Mozilla/5.0 (iPhone; CPU iPhone OS 15_6_1 like...</td>\n",
              "      <td>Online Medical Journal</td>\n",
              "      <td>Website</td>\n",
              "      <td>https://www.dermatologyadvisor.com/home/topics...</td>\n",
              "      <td>pain|disease|autoimmune|multiple sclerosis|gra...</td>\n",
              "      <td>2084P0800X</td>\n",
              "      <td>1.0</td>\n",
              "    </tr>\n",
              "    <tr>\n",
              "      <th>113936</th>\n",
              "      <td>114937</td>\n",
              "      <td>Mobile</td>\n",
              "      <td>2</td>\n",
              "      <td>108.41.233.175</td>\n",
              "      <td>d26887c5-15f9-4b72-80dc-728039529e60</td>\n",
              "      <td>White Plains</td>\n",
              "      <td>10605.0</td>\n",
              "      <td>Mozilla/5.0 (iPhone; CPU iPhone OS 16_1 like M...</td>\n",
              "      <td>Online Medical Journal</td>\n",
              "      <td>Website</td>\n",
              "      <td>https://www.medicalbag.com/</td>\n",
              "      <td>Genetic|Large|Autoimmune|Health|False|Abortion...</td>\n",
              "      <td>2084P0800X</td>\n",
              "      <td>1.0</td>\n",
              "    </tr>\n",
              "  </tbody>\n",
              "</table>\n",
              "<p>113937 rows × 14 columns</p>\n",
              "</div>\n",
              "      <button class=\"colab-df-convert\" onclick=\"convertToInteractive('df-33d28a2b-2767-4d24-bcaf-db64cf6323ac')\"\n",
              "              title=\"Convert this dataframe to an interactive table.\"\n",
              "              style=\"display:none;\">\n",
              "        \n",
              "  <svg xmlns=\"http://www.w3.org/2000/svg\" height=\"24px\"viewBox=\"0 0 24 24\"\n",
              "       width=\"24px\">\n",
              "    <path d=\"M0 0h24v24H0V0z\" fill=\"none\"/>\n",
              "    <path d=\"M18.56 5.44l.94 2.06.94-2.06 2.06-.94-2.06-.94-.94-2.06-.94 2.06-2.06.94zm-11 1L8.5 8.5l.94-2.06 2.06-.94-2.06-.94L8.5 2.5l-.94 2.06-2.06.94zm10 10l.94 2.06.94-2.06 2.06-.94-2.06-.94-.94-2.06-.94 2.06-2.06.94z\"/><path d=\"M17.41 7.96l-1.37-1.37c-.4-.4-.92-.59-1.43-.59-.52 0-1.04.2-1.43.59L10.3 9.45l-7.72 7.72c-.78.78-.78 2.05 0 2.83L4 21.41c.39.39.9.59 1.41.59.51 0 1.02-.2 1.41-.59l7.78-7.78 2.81-2.81c.8-.78.8-2.07 0-2.86zM5.41 20L4 18.59l7.72-7.72 1.47 1.35L5.41 20z\"/>\n",
              "  </svg>\n",
              "      </button>\n",
              "      \n",
              "  <style>\n",
              "    .colab-df-container {\n",
              "      display:flex;\n",
              "      flex-wrap:wrap;\n",
              "      gap: 12px;\n",
              "    }\n",
              "\n",
              "    .colab-df-convert {\n",
              "      background-color: #E8F0FE;\n",
              "      border: none;\n",
              "      border-radius: 50%;\n",
              "      cursor: pointer;\n",
              "      display: none;\n",
              "      fill: #1967D2;\n",
              "      height: 32px;\n",
              "      padding: 0 0 0 0;\n",
              "      width: 32px;\n",
              "    }\n",
              "\n",
              "    .colab-df-convert:hover {\n",
              "      background-color: #E2EBFA;\n",
              "      box-shadow: 0px 1px 2px rgba(60, 64, 67, 0.3), 0px 1px 3px 1px rgba(60, 64, 67, 0.15);\n",
              "      fill: #174EA6;\n",
              "    }\n",
              "\n",
              "    [theme=dark] .colab-df-convert {\n",
              "      background-color: #3B4455;\n",
              "      fill: #D2E3FC;\n",
              "    }\n",
              "\n",
              "    [theme=dark] .colab-df-convert:hover {\n",
              "      background-color: #434B5C;\n",
              "      box-shadow: 0px 1px 3px 1px rgba(0, 0, 0, 0.15);\n",
              "      filter: drop-shadow(0px 1px 2px rgba(0, 0, 0, 0.3));\n",
              "      fill: #FFFFFF;\n",
              "    }\n",
              "  </style>\n",
              "\n",
              "      <script>\n",
              "        const buttonEl =\n",
              "          document.querySelector('#df-33d28a2b-2767-4d24-bcaf-db64cf6323ac button.colab-df-convert');\n",
              "        buttonEl.style.display =\n",
              "          google.colab.kernel.accessAllowed ? 'block' : 'none';\n",
              "\n",
              "        async function convertToInteractive(key) {\n",
              "          const element = document.querySelector('#df-33d28a2b-2767-4d24-bcaf-db64cf6323ac');\n",
              "          const dataTable =\n",
              "            await google.colab.kernel.invokeFunction('convertToInteractive',\n",
              "                                                     [key], {});\n",
              "          if (!dataTable) return;\n",
              "\n",
              "          const docLinkHtml = 'Like what you see? Visit the ' +\n",
              "            '<a target=\"_blank\" href=https://colab.research.google.com/notebooks/data_table.ipynb>data table notebook</a>'\n",
              "            + ' to learn more about interactive tables.';\n",
              "          element.innerHTML = '';\n",
              "          dataTable['output_type'] = 'display_data';\n",
              "          await google.colab.output.renderOutput(dataTable, element);\n",
              "          const docLink = document.createElement('div');\n",
              "          docLink.innerHTML = docLinkHtml;\n",
              "          element.appendChild(docLink);\n",
              "        }\n",
              "      </script>\n",
              "    </div>\n",
              "  </div>\n",
              "  "
            ]
          },
          "metadata": {},
          "execution_count": 19
        }
      ],
      "source": [
        "complete_data=pd.read_csv(\"/content/drive/MyDrive/Colab Notebooks/data/Doceree-HCP_Train.csv\",encoding = \"ISO-8859-1\")\n",
        "complete_data"
      ]
    },
    {
      "cell_type": "markdown",
      "metadata": {
        "id": "ZxQFSh7SL1lU"
      },
      "source": [
        "***Basic Data Analysis***\n"
      ]
    },
    {
      "cell_type": "markdown",
      "metadata": {
        "id": "zwpOk5erO5kF"
      },
      "source": [
        "1. Info about the data(presence of any null values,checking data types of features)"
      ]
    },
    {
      "cell_type": "code",
      "execution_count": null,
      "metadata": {
        "colab": {
          "base_uri": "https://localhost:8080/"
        },
        "id": "6mbB2KiRUdEG",
        "outputId": "034c38e7-8db0-44f9-d756-ac373521d493"
      },
      "outputs": [
        {
          "output_type": "stream",
          "name": "stdout",
          "text": [
            "<class 'pandas.core.frame.DataFrame'>\n",
            "RangeIndex: 113937 entries, 0 to 113936\n",
            "Data columns (total 14 columns):\n",
            " #   Column           Non-Null Count   Dtype  \n",
            "---  ------           --------------   -----  \n",
            " 0   ID               113937 non-null  int64  \n",
            " 1   DEVICETYPE       113937 non-null  object \n",
            " 2   PLATFORM_ID      113937 non-null  int64  \n",
            " 3   BIDREQUESTIP     113937 non-null  object \n",
            " 4   USERPLATFORMUID  113933 non-null  object \n",
            " 5   USERCITY         107578 non-null  object \n",
            " 6   USERZIPCODE      109345 non-null  float64\n",
            " 7   USERAGENT        113935 non-null  object \n",
            " 8   PLATFORMTYPE     113937 non-null  object \n",
            " 9   CHANNELTYPE      113937 non-null  object \n",
            " 10  URL              113937 non-null  object \n",
            " 11  KEYWORDS         113937 non-null  object \n",
            " 12  TAXONOMY         32313 non-null   object \n",
            " 13  IS_HCP           113936 non-null  float64\n",
            "dtypes: float64(2), int64(2), object(10)\n",
            "memory usage: 12.2+ MB\n"
          ]
        }
      ],
      "source": [
        "complete_data.info()"
      ]
    },
    {
      "cell_type": "code",
      "source": [
        "complete_data.dropna(subset=['IS_HCP'], inplace= True)"
      ],
      "metadata": {
        "id": "F0DE4Z9eRVPn"
      },
      "execution_count": null,
      "outputs": []
    },
    {
      "cell_type": "code",
      "source": [
        "complete_data['USERCITY']=complete_data['USERCITY'].fillna(complete_data['USERCITY'].mode().iloc[0])"
      ],
      "metadata": {
        "id": "BImXYZYMpewb"
      },
      "execution_count": null,
      "outputs": []
    },
    {
      "cell_type": "code",
      "source": [
        "complete_data.info()"
      ],
      "metadata": {
        "colab": {
          "base_uri": "https://localhost:8080/"
        },
        "id": "vXzYFH7GR33m",
        "outputId": "2e3cdb7d-aa5a-4bf4-b43f-79d312eecadf"
      },
      "execution_count": null,
      "outputs": [
        {
          "output_type": "stream",
          "name": "stdout",
          "text": [
            "<class 'pandas.core.frame.DataFrame'>\n",
            "Int64Index: 113936 entries, 0 to 113936\n",
            "Data columns (total 14 columns):\n",
            " #   Column           Non-Null Count   Dtype  \n",
            "---  ------           --------------   -----  \n",
            " 0   ID               113936 non-null  int64  \n",
            " 1   DEVICETYPE       113936 non-null  object \n",
            " 2   PLATFORM_ID      113936 non-null  int64  \n",
            " 3   BIDREQUESTIP     113936 non-null  object \n",
            " 4   USERPLATFORMUID  113932 non-null  object \n",
            " 5   USERCITY         113936 non-null  object \n",
            " 6   USERZIPCODE      109344 non-null  float64\n",
            " 7   USERAGENT        113934 non-null  object \n",
            " 8   PLATFORMTYPE     113936 non-null  object \n",
            " 9   CHANNELTYPE      113936 non-null  object \n",
            " 10  URL              113936 non-null  object \n",
            " 11  KEYWORDS         113936 non-null  object \n",
            " 12  TAXONOMY         32313 non-null   object \n",
            " 13  IS_HCP           113936 non-null  float64\n",
            "dtypes: float64(2), int64(2), object(10)\n",
            "memory usage: 13.0+ MB\n"
          ]
        }
      ]
    },
    {
      "cell_type": "code",
      "source": [
        "def transform_message(message):\n",
        "    message_not_punc = [] # Message without punctuation\n",
        "    message_not_punc= message.split('|')\n",
        "\n",
        "    # Join words again to form the string.\n",
        "    message_not_punc = ' '.join(message_not_punc)\n",
        "    return message_not_punc"
      ],
      "metadata": {
        "id": "-3VsJ1t8SAKN"
      },
      "execution_count": null,
      "outputs": []
    },
    {
      "cell_type": "code",
      "source": [
        "complete_data['KEYWORDS']=complete_data['KEYWORDS'].apply(transform_message)"
      ],
      "metadata": {
        "id": "alQdcIAiSikq"
      },
      "execution_count": null,
      "outputs": []
    },
    {
      "cell_type": "code",
      "source": [
        "complete_data['KEYWORDS']"
      ],
      "metadata": {
        "id": "pTm7lCjBVZHT",
        "colab": {
          "base_uri": "https://localhost:8080/"
        },
        "outputId": "2b0de161-8cbc-4ed0-f1a3-f00dae689c73"
      },
      "execution_count": null,
      "outputs": [
        {
          "output_type": "execute_result",
          "data": {
            "text/plain": [
              "0         General Endocrine False Medicine Surgery Urolo...\n",
              "1         Bone Marrow Radiography Chronic Oncology Psych...\n",
              "2         General Endocrine False Medicine Surgery Urolo...\n",
              "3         Dental Total Clinical Pharmacology Physicians ...\n",
              "4         Critical Care Emergency Medicine General Pract...\n",
              "                                ...                        \n",
              "113932    Cardiovascular Clinical False Male Oncology Ps...\n",
              "113933    Asthma Arthritis General Clinical Diagnosis Rh...\n",
              "113934    Rehabilitation Transplantation Clinical Preven...\n",
              "113935    pain disease autoimmune multiple sclerosis gra...\n",
              "113936    Genetic Large Autoimmune Health False Abortion...\n",
              "Name: KEYWORDS, Length: 113936, dtype: object"
            ]
          },
          "metadata": {},
          "execution_count": 30
        }
      ]
    },
    {
      "cell_type": "code",
      "source": [
        "list(complete_data.head())"
      ],
      "metadata": {
        "colab": {
          "base_uri": "https://localhost:8080/"
        },
        "id": "RVCp9LNIlW9c",
        "outputId": "7da878f4-d870-43a8-dd39-962dd066d096"
      },
      "execution_count": null,
      "outputs": [
        {
          "output_type": "execute_result",
          "data": {
            "text/plain": [
              "['ID',\n",
              " 'DEVICETYPE',\n",
              " 'PLATFORM_ID',\n",
              " 'BIDREQUESTIP',\n",
              " 'USERPLATFORMUID',\n",
              " 'USERCITY',\n",
              " 'USERZIPCODE',\n",
              " 'USERAGENT',\n",
              " 'PLATFORMTYPE',\n",
              " 'CHANNELTYPE',\n",
              " 'URL',\n",
              " 'KEYWORDS',\n",
              " 'TAXONOMY',\n",
              " 'IS_HCP']"
            ]
          },
          "metadata": {},
          "execution_count": 31
        }
      ]
    },
    {
      "cell_type": "code",
      "source": [
        "y=complete_data['IS_HCP']\n",
        "complete_data.drop(['ID','USERPLATFORMUID','USERZIPCODE','CHANNELTYPE','URL','TAXONOMY','IS_HCP','USERAGENT'], axis=1, inplace= True)"
      ],
      "metadata": {
        "id": "cCb8U5ZRmnHi"
      },
      "execution_count": null,
      "outputs": []
    },
    {
      "cell_type": "code",
      "source": [
        "complete_data.drop(['PLATFORM_ID','BIDREQUESTIP'], axis=1, inplace= True)"
      ],
      "metadata": {
        "id": "-jZvXt-Cl7rN"
      },
      "execution_count": null,
      "outputs": []
    },
    {
      "cell_type": "code",
      "source": [
        "list(complete_data.head())"
      ],
      "metadata": {
        "colab": {
          "base_uri": "https://localhost:8080/"
        },
        "id": "FJiuulrlIYir",
        "outputId": "ca7b2605-8c77-40b2-ae4c-22ed731aa0c3"
      },
      "execution_count": null,
      "outputs": [
        {
          "output_type": "execute_result",
          "data": {
            "text/plain": [
              "['DEVICETYPE', 'USERCITY', 'PLATFORMTYPE', 'KEYWORDS']"
            ]
          },
          "metadata": {},
          "execution_count": 34
        }
      ]
    },
    {
      "cell_type": "code",
      "source": [
        "complete_data['KEYWORDS']=complete_data['KEYWORDS'].astype(\"category\")\n",
        "complete_data[\"DEVICETYPE\"]=complete_data[\"DEVICETYPE\"].astype(\"category\")\n",
        "complete_data['USERCITY']=complete_data['USERCITY'].astype(\"category\")\n",
        "complete_data['PLATFORMTYPE']=complete_data['PLATFORMTYPE'].astype(\"category\")"
      ],
      "metadata": {
        "id": "ZqMRpLx9rtSh"
      },
      "execution_count": null,
      "outputs": []
    },
    {
      "cell_type": "code",
      "source": [
        "complete_data.info()"
      ],
      "metadata": {
        "colab": {
          "base_uri": "https://localhost:8080/"
        },
        "id": "UFyDAelhJoag",
        "outputId": "cfdc00bf-ec7c-4665-e0ee-78acac2e6c97"
      },
      "execution_count": null,
      "outputs": [
        {
          "output_type": "stream",
          "name": "stdout",
          "text": [
            "<class 'pandas.core.frame.DataFrame'>\n",
            "Int64Index: 113936 entries, 0 to 113936\n",
            "Data columns (total 4 columns):\n",
            " #   Column        Non-Null Count   Dtype   \n",
            "---  ------        --------------   -----   \n",
            " 0   DEVICETYPE    113936 non-null  category\n",
            " 1   USERCITY      113936 non-null  category\n",
            " 2   PLATFORMTYPE  113936 non-null  category\n",
            " 3   KEYWORDS      113936 non-null  category\n",
            "dtypes: category(4)\n",
            "memory usage: 1.8 MB\n"
          ]
        }
      ]
    },
    {
      "cell_type": "markdown",
      "metadata": {
        "id": "tDZkM4lUPLqA"
      },
      "source": [
        "2. Filtering dataset as per the requirement (i.e. taking required features into consideration)"
      ]
    },
    {
      "cell_type": "markdown",
      "metadata": {
        "id": "pN4435PRPY__"
      },
      "source": [
        "3. Statistical Analysis of Numerical features"
      ]
    },
    {
      "cell_type": "code",
      "execution_count": null,
      "metadata": {
        "id": "nLp_t5jSkNeP"
      },
      "outputs": [],
      "source": [
        "#Preprocessing for XGBoost\n",
        "import xgboost as xgb\n",
        "from sklearn.model_selection import train_test_split, GridSearchCV\n",
        "from sklearn.metrics import confusion_matrix, classification_report #plot_confusion_matrix\n",
        "from sklearn.metrics import balanced_accuracy_score, accuracy_score, precision_score, recall_score, f1_score\n",
        "from sklearn.utils.class_weight import compute_sample_weight\n",
        "\n",
        "\n",
        "\n",
        "# splitting complete data into \" stratified\" train and test split\n",
        "X_train, X_test, y_train, y_test = train_test_split(complete_data, y,test_size=0.3, random_state=42, stratify=y)"
      ]
    },
    {
      "cell_type": "markdown",
      "metadata": {
        "id": "KENvA5W5W8kT"
      },
      "source": [
        "**1. XGBoost model v1 (base run of model with default hyperparameters)**"
      ]
    },
    {
      "cell_type": "code",
      "execution_count": null,
      "metadata": {
        "colab": {
          "base_uri": "https://localhost:8080/",
          "height": 1000
        },
        "id": "dKGSBODZmUxU",
        "outputId": "cb51d6f6-853e-4fa4-839a-08e93021c17c"
      },
      "outputs": [
        {
          "output_type": "stream",
          "name": "stdout",
          "text": [
            "[0]\tvalidation_0-logloss:0.46343\tvalidation_1-logloss:0.46436\n",
            "[1]\tvalidation_0-logloss:0.33336\tvalidation_1-logloss:0.33483\n",
            "[2]\tvalidation_0-logloss:0.25131\tvalidation_1-logloss:0.25268\n",
            "[3]\tvalidation_0-logloss:0.19668\tvalidation_1-logloss:0.19820\n",
            "[4]\tvalidation_0-logloss:0.15691\tvalidation_1-logloss:0.15875\n",
            "[5]\tvalidation_0-logloss:0.12842\tvalidation_1-logloss:0.13048\n",
            "[6]\tvalidation_0-logloss:0.10751\tvalidation_1-logloss:0.10978\n",
            "[7]\tvalidation_0-logloss:0.09151\tvalidation_1-logloss:0.09408\n",
            "[8]\tvalidation_0-logloss:0.07940\tvalidation_1-logloss:0.08212\n",
            "[9]\tvalidation_0-logloss:0.06988\tvalidation_1-logloss:0.07264\n",
            "[10]\tvalidation_0-logloss:0.06244\tvalidation_1-logloss:0.06526\n",
            "[11]\tvalidation_0-logloss:0.05671\tvalidation_1-logloss:0.05979\n",
            "[12]\tvalidation_0-logloss:0.05178\tvalidation_1-logloss:0.05504\n",
            "[13]\tvalidation_0-logloss:0.04758\tvalidation_1-logloss:0.05109\n",
            "[14]\tvalidation_0-logloss:0.04361\tvalidation_1-logloss:0.04724\n",
            "[15]\tvalidation_0-logloss:0.04104\tvalidation_1-logloss:0.04482\n",
            "[16]\tvalidation_0-logloss:0.03856\tvalidation_1-logloss:0.04249\n",
            "[17]\tvalidation_0-logloss:0.03666\tvalidation_1-logloss:0.04077\n",
            "[18]\tvalidation_0-logloss:0.03494\tvalidation_1-logloss:0.03910\n",
            "[19]\tvalidation_0-logloss:0.03388\tvalidation_1-logloss:0.03824\n",
            "[20]\tvalidation_0-logloss:0.03320\tvalidation_1-logloss:0.03768\n",
            "[21]\tvalidation_0-logloss:0.03287\tvalidation_1-logloss:0.03740\n",
            "[22]\tvalidation_0-logloss:0.03257\tvalidation_1-logloss:0.03712\n",
            "[23]\tvalidation_0-logloss:0.03234\tvalidation_1-logloss:0.03690\n",
            "[24]\tvalidation_0-logloss:0.03216\tvalidation_1-logloss:0.03672\n",
            "[25]\tvalidation_0-logloss:0.03199\tvalidation_1-logloss:0.03661\n",
            "[26]\tvalidation_0-logloss:0.03177\tvalidation_1-logloss:0.03645\n",
            "[27]\tvalidation_0-logloss:0.03167\tvalidation_1-logloss:0.03637\n",
            "[28]\tvalidation_0-logloss:0.03160\tvalidation_1-logloss:0.03633\n",
            "[29]\tvalidation_0-logloss:0.03155\tvalidation_1-logloss:0.03630\n",
            "[30]\tvalidation_0-logloss:0.03148\tvalidation_1-logloss:0.03623\n",
            "[31]\tvalidation_0-logloss:0.03145\tvalidation_1-logloss:0.03621\n",
            "[32]\tvalidation_0-logloss:0.03139\tvalidation_1-logloss:0.03616\n",
            "[33]\tvalidation_0-logloss:0.03121\tvalidation_1-logloss:0.03600\n",
            "[34]\tvalidation_0-logloss:0.03114\tvalidation_1-logloss:0.03597\n",
            "[35]\tvalidation_0-logloss:0.03107\tvalidation_1-logloss:0.03595\n",
            "[36]\tvalidation_0-logloss:0.03100\tvalidation_1-logloss:0.03589\n",
            "[37]\tvalidation_0-logloss:0.03092\tvalidation_1-logloss:0.03583\n",
            "[38]\tvalidation_0-logloss:0.03086\tvalidation_1-logloss:0.03580\n",
            "[39]\tvalidation_0-logloss:0.03078\tvalidation_1-logloss:0.03577\n",
            "[40]\tvalidation_0-logloss:0.03074\tvalidation_1-logloss:0.03575\n",
            "[41]\tvalidation_0-logloss:0.03066\tvalidation_1-logloss:0.03566\n",
            "[42]\tvalidation_0-logloss:0.03061\tvalidation_1-logloss:0.03563\n",
            "[43]\tvalidation_0-logloss:0.03058\tvalidation_1-logloss:0.03562\n",
            "[44]\tvalidation_0-logloss:0.03054\tvalidation_1-logloss:0.03561\n",
            "[45]\tvalidation_0-logloss:0.03048\tvalidation_1-logloss:0.03559\n",
            "[46]\tvalidation_0-logloss:0.03045\tvalidation_1-logloss:0.03558\n",
            "[47]\tvalidation_0-logloss:0.03041\tvalidation_1-logloss:0.03555\n",
            "[48]\tvalidation_0-logloss:0.03038\tvalidation_1-logloss:0.03554\n",
            "[49]\tvalidation_0-logloss:0.03036\tvalidation_1-logloss:0.03553\n",
            "[50]\tvalidation_0-logloss:0.03033\tvalidation_1-logloss:0.03552\n",
            "[51]\tvalidation_0-logloss:0.03030\tvalidation_1-logloss:0.03549\n",
            "[52]\tvalidation_0-logloss:0.03026\tvalidation_1-logloss:0.03546\n",
            "[53]\tvalidation_0-logloss:0.03025\tvalidation_1-logloss:0.03547\n",
            "[54]\tvalidation_0-logloss:0.03022\tvalidation_1-logloss:0.03547\n",
            "[55]\tvalidation_0-logloss:0.03017\tvalidation_1-logloss:0.03546\n",
            "[56]\tvalidation_0-logloss:0.03010\tvalidation_1-logloss:0.03543\n",
            "[57]\tvalidation_0-logloss:0.03004\tvalidation_1-logloss:0.03543\n",
            "[58]\tvalidation_0-logloss:0.03001\tvalidation_1-logloss:0.03541\n",
            "[59]\tvalidation_0-logloss:0.02998\tvalidation_1-logloss:0.03537\n",
            "[60]\tvalidation_0-logloss:0.02996\tvalidation_1-logloss:0.03536\n",
            "[61]\tvalidation_0-logloss:0.02993\tvalidation_1-logloss:0.03534\n",
            "[62]\tvalidation_0-logloss:0.02989\tvalidation_1-logloss:0.03532\n",
            "[63]\tvalidation_0-logloss:0.02987\tvalidation_1-logloss:0.03530\n",
            "[64]\tvalidation_0-logloss:0.02980\tvalidation_1-logloss:0.03529\n",
            "[65]\tvalidation_0-logloss:0.02979\tvalidation_1-logloss:0.03529\n",
            "[66]\tvalidation_0-logloss:0.02975\tvalidation_1-logloss:0.03528\n",
            "[67]\tvalidation_0-logloss:0.02973\tvalidation_1-logloss:0.03527\n",
            "[68]\tvalidation_0-logloss:0.02970\tvalidation_1-logloss:0.03525\n",
            "[69]\tvalidation_0-logloss:0.02968\tvalidation_1-logloss:0.03524\n",
            "[70]\tvalidation_0-logloss:0.02966\tvalidation_1-logloss:0.03523\n",
            "[71]\tvalidation_0-logloss:0.02964\tvalidation_1-logloss:0.03522\n",
            "[72]\tvalidation_0-logloss:0.02962\tvalidation_1-logloss:0.03520\n",
            "[73]\tvalidation_0-logloss:0.02961\tvalidation_1-logloss:0.03519\n",
            "[74]\tvalidation_0-logloss:0.02958\tvalidation_1-logloss:0.03520\n",
            "[75]\tvalidation_0-logloss:0.02955\tvalidation_1-logloss:0.03518\n",
            "[76]\tvalidation_0-logloss:0.02954\tvalidation_1-logloss:0.03518\n",
            "[77]\tvalidation_0-logloss:0.02953\tvalidation_1-logloss:0.03518\n",
            "[78]\tvalidation_0-logloss:0.02952\tvalidation_1-logloss:0.03519\n",
            "[79]\tvalidation_0-logloss:0.02951\tvalidation_1-logloss:0.03518\n",
            "[80]\tvalidation_0-logloss:0.02946\tvalidation_1-logloss:0.03518\n",
            "[81]\tvalidation_0-logloss:0.02942\tvalidation_1-logloss:0.03517\n",
            "[82]\tvalidation_0-logloss:0.02940\tvalidation_1-logloss:0.03515\n",
            "[83]\tvalidation_0-logloss:0.02936\tvalidation_1-logloss:0.03512\n",
            "[84]\tvalidation_0-logloss:0.02934\tvalidation_1-logloss:0.03510\n",
            "[85]\tvalidation_0-logloss:0.02933\tvalidation_1-logloss:0.03509\n",
            "[86]\tvalidation_0-logloss:0.02929\tvalidation_1-logloss:0.03505\n",
            "[87]\tvalidation_0-logloss:0.02928\tvalidation_1-logloss:0.03506\n",
            "[88]\tvalidation_0-logloss:0.02927\tvalidation_1-logloss:0.03506\n",
            "[89]\tvalidation_0-logloss:0.02926\tvalidation_1-logloss:0.03506\n",
            "[90]\tvalidation_0-logloss:0.02924\tvalidation_1-logloss:0.03504\n",
            "[91]\tvalidation_0-logloss:0.02923\tvalidation_1-logloss:0.03504\n",
            "[92]\tvalidation_0-logloss:0.02921\tvalidation_1-logloss:0.03503\n",
            "[93]\tvalidation_0-logloss:0.02920\tvalidation_1-logloss:0.03500\n",
            "[94]\tvalidation_0-logloss:0.02919\tvalidation_1-logloss:0.03500\n",
            "[95]\tvalidation_0-logloss:0.02917\tvalidation_1-logloss:0.03500\n",
            "[96]\tvalidation_0-logloss:0.02917\tvalidation_1-logloss:0.03500\n",
            "[97]\tvalidation_0-logloss:0.02916\tvalidation_1-logloss:0.03500\n",
            "[98]\tvalidation_0-logloss:0.02915\tvalidation_1-logloss:0.03499\n",
            "[99]\tvalidation_0-logloss:0.02914\tvalidation_1-logloss:0.03498\n"
          ]
        },
        {
          "output_type": "execute_result",
          "data": {
            "text/plain": [
              "XGBClassifier(base_score=None, booster=None, callbacks=None,\n",
              "              colsample_bylevel=None, colsample_bynode=None,\n",
              "              colsample_bytree=None, early_stopping_rounds=None,\n",
              "              enable_categorical=True, eval_metric=None, feature_types=None,\n",
              "              gamma=None, gpu_id=None, grow_policy=None, importance_type=None,\n",
              "              interaction_constraints=None, learning_rate=None, max_bin=None,\n",
              "              max_cat_threshold=None, max_cat_to_onehot=1, max_delta_step=None,\n",
              "              max_depth=None, max_leaves=None, min_child_weight=None,\n",
              "              missing=nan, monotone_constraints=None, n_estimators=100,\n",
              "              n_jobs=None, num_parallel_tree=None, predictor=None,\n",
              "              random_state=None, ...)"
            ],
            "text/html": [
              "<style>#sk-container-id-1 {color: black;background-color: white;}#sk-container-id-1 pre{padding: 0;}#sk-container-id-1 div.sk-toggleable {background-color: white;}#sk-container-id-1 label.sk-toggleable__label {cursor: pointer;display: block;width: 100%;margin-bottom: 0;padding: 0.3em;box-sizing: border-box;text-align: center;}#sk-container-id-1 label.sk-toggleable__label-arrow:before {content: \"▸\";float: left;margin-right: 0.25em;color: #696969;}#sk-container-id-1 label.sk-toggleable__label-arrow:hover:before {color: black;}#sk-container-id-1 div.sk-estimator:hover label.sk-toggleable__label-arrow:before {color: black;}#sk-container-id-1 div.sk-toggleable__content {max-height: 0;max-width: 0;overflow: hidden;text-align: left;background-color: #f0f8ff;}#sk-container-id-1 div.sk-toggleable__content pre {margin: 0.2em;color: black;border-radius: 0.25em;background-color: #f0f8ff;}#sk-container-id-1 input.sk-toggleable__control:checked~div.sk-toggleable__content {max-height: 200px;max-width: 100%;overflow: auto;}#sk-container-id-1 input.sk-toggleable__control:checked~label.sk-toggleable__label-arrow:before {content: \"▾\";}#sk-container-id-1 div.sk-estimator input.sk-toggleable__control:checked~label.sk-toggleable__label {background-color: #d4ebff;}#sk-container-id-1 div.sk-label input.sk-toggleable__control:checked~label.sk-toggleable__label {background-color: #d4ebff;}#sk-container-id-1 input.sk-hidden--visually {border: 0;clip: rect(1px 1px 1px 1px);clip: rect(1px, 1px, 1px, 1px);height: 1px;margin: -1px;overflow: hidden;padding: 0;position: absolute;width: 1px;}#sk-container-id-1 div.sk-estimator {font-family: monospace;background-color: #f0f8ff;border: 1px dotted black;border-radius: 0.25em;box-sizing: border-box;margin-bottom: 0.5em;}#sk-container-id-1 div.sk-estimator:hover {background-color: #d4ebff;}#sk-container-id-1 div.sk-parallel-item::after {content: \"\";width: 100%;border-bottom: 1px solid gray;flex-grow: 1;}#sk-container-id-1 div.sk-label:hover label.sk-toggleable__label {background-color: #d4ebff;}#sk-container-id-1 div.sk-serial::before {content: \"\";position: absolute;border-left: 1px solid gray;box-sizing: border-box;top: 0;bottom: 0;left: 50%;z-index: 0;}#sk-container-id-1 div.sk-serial {display: flex;flex-direction: column;align-items: center;background-color: white;padding-right: 0.2em;padding-left: 0.2em;position: relative;}#sk-container-id-1 div.sk-item {position: relative;z-index: 1;}#sk-container-id-1 div.sk-parallel {display: flex;align-items: stretch;justify-content: center;background-color: white;position: relative;}#sk-container-id-1 div.sk-item::before, #sk-container-id-1 div.sk-parallel-item::before {content: \"\";position: absolute;border-left: 1px solid gray;box-sizing: border-box;top: 0;bottom: 0;left: 50%;z-index: -1;}#sk-container-id-1 div.sk-parallel-item {display: flex;flex-direction: column;z-index: 1;position: relative;background-color: white;}#sk-container-id-1 div.sk-parallel-item:first-child::after {align-self: flex-end;width: 50%;}#sk-container-id-1 div.sk-parallel-item:last-child::after {align-self: flex-start;width: 50%;}#sk-container-id-1 div.sk-parallel-item:only-child::after {width: 0;}#sk-container-id-1 div.sk-dashed-wrapped {border: 1px dashed gray;margin: 0 0.4em 0.5em 0.4em;box-sizing: border-box;padding-bottom: 0.4em;background-color: white;}#sk-container-id-1 div.sk-label label {font-family: monospace;font-weight: bold;display: inline-block;line-height: 1.2em;}#sk-container-id-1 div.sk-label-container {text-align: center;}#sk-container-id-1 div.sk-container {/* jupyter's `normalize.less` sets `[hidden] { display: none; }` but bootstrap.min.css set `[hidden] { display: none !important; }` so we also need the `!important` here to be able to override the default hidden behavior on the sphinx rendered scikit-learn.org. See: https://github.com/scikit-learn/scikit-learn/issues/21755 */display: inline-block !important;position: relative;}#sk-container-id-1 div.sk-text-repr-fallback {display: none;}</style><div id=\"sk-container-id-1\" class=\"sk-top-container\"><div class=\"sk-text-repr-fallback\"><pre>XGBClassifier(base_score=None, booster=None, callbacks=None,\n",
              "              colsample_bylevel=None, colsample_bynode=None,\n",
              "              colsample_bytree=None, early_stopping_rounds=None,\n",
              "              enable_categorical=True, eval_metric=None, feature_types=None,\n",
              "              gamma=None, gpu_id=None, grow_policy=None, importance_type=None,\n",
              "              interaction_constraints=None, learning_rate=None, max_bin=None,\n",
              "              max_cat_threshold=None, max_cat_to_onehot=1, max_delta_step=None,\n",
              "              max_depth=None, max_leaves=None, min_child_weight=None,\n",
              "              missing=nan, monotone_constraints=None, n_estimators=100,\n",
              "              n_jobs=None, num_parallel_tree=None, predictor=None,\n",
              "              random_state=None, ...)</pre><b>In a Jupyter environment, please rerun this cell to show the HTML representation or trust the notebook. <br />On GitHub, the HTML representation is unable to render, please try loading this page with nbviewer.org.</b></div><div class=\"sk-container\" hidden><div class=\"sk-item\"><div class=\"sk-estimator sk-toggleable\"><input class=\"sk-toggleable__control sk-hidden--visually\" id=\"sk-estimator-id-1\" type=\"checkbox\" checked><label for=\"sk-estimator-id-1\" class=\"sk-toggleable__label sk-toggleable__label-arrow\">XGBClassifier</label><div class=\"sk-toggleable__content\"><pre>XGBClassifier(base_score=None, booster=None, callbacks=None,\n",
              "              colsample_bylevel=None, colsample_bynode=None,\n",
              "              colsample_bytree=None, early_stopping_rounds=None,\n",
              "              enable_categorical=True, eval_metric=None, feature_types=None,\n",
              "              gamma=None, gpu_id=None, grow_policy=None, importance_type=None,\n",
              "              interaction_constraints=None, learning_rate=None, max_bin=None,\n",
              "              max_cat_threshold=None, max_cat_to_onehot=1, max_delta_step=None,\n",
              "              max_depth=None, max_leaves=None, min_child_weight=None,\n",
              "              missing=nan, monotone_constraints=None, n_estimators=100,\n",
              "              n_jobs=None, num_parallel_tree=None, predictor=None,\n",
              "              random_state=None, ...)</pre></div></div></div></div></div>"
            ]
          },
          "metadata": {},
          "execution_count": 39
        }
      ],
      "source": [
        "clf = xgb.XGBClassifier(tree_method=\"gpu_hist\",enable_categorical=True,max_cat_to_onehot=1)\n",
        "clf.fit(X_train,\n",
        "            y_train,\n",
        "            verbose=1, # set to 1 to see xgb training round intermediate results\n",
        "           eval_set=[(X_train, y_train), (X_test, y_test)])\n",
        "\n",
        "\n"
      ]
    },
    {
      "cell_type": "markdown",
      "metadata": {
        "id": "pADW63z2Xd2Q"
      },
      "source": [
        "---**Evaluation Metrics and Plots**---"
      ]
    },
    {
      "cell_type": "code",
      "execution_count": null,
      "metadata": {
        "colab": {
          "base_uri": "https://localhost:8080/",
          "height": 468
        },
        "id": "mv9e7TrbUYuX",
        "outputId": "9e746fea-c816-44e7-8e39-15f2e7e980c1"
      },
      "outputs": [
        {
          "output_type": "display_data",
          "data": {
            "text/plain": [
              "<Figure size 900x500 with 1 Axes>"
            ],
            "image/png": "[encoded data removed]"
          },
          "metadata": {}
        }
      ],
      "source": [
        "# preparing evaluation metric plots\n",
        "results = clf.evals_result()\n",
        "epochs = len(results['validation_0']['logloss'])\n",
        "x_axis = range(0, epochs)\n",
        "\n",
        "# xgboost 'mlogloss' plot\n",
        "fig, ax = plt.subplots(figsize=(9,5))\n",
        "ax.plot(x_axis, results['validation_0']['logloss'], label='Train')\n",
        "ax.plot(x_axis, results['validation_1']['logloss'], label='Test')\n",
        "ax.legend()\n",
        "plt.ylabel('mlogloss')\n",
        "plt.title('GridSearchCV XGBoost logloss')\n",
        "plt.show()\n"
      ]
    },
    {
      "cell_type": "markdown",
      "metadata": {
        "id": "4FLhvsOaXrEj"
      },
      "source": [
        "---**Model Classification Report**---"
      ]
    },
    {
      "cell_type": "code",
      "execution_count": null,
      "metadata": {
        "colab": {
          "base_uri": "https://localhost:8080/"
        },
        "id": "hLV6vbmQUgWW",
        "outputId": "634e5189-2ff8-40e2-9fce-cd73e30bd463"
      },
      "outputs": [
        {
          "output_type": "stream",
          "name": "stdout",
          "text": [
            "\n",
            "------------------ Confusion Matrix -----------------\n",
            "\n",
            "[[23676   251]\n",
            " [  193 10061]]\n",
            "\n",
            "-------------------- Key Metrics --------------------\n",
            "\n",
            "Accuracy: 0.99\n",
            "Balanced Accuracy: 0.99\n",
            "\n",
            "Micro Precision: 0.99\n",
            "Micro Recall: 0.99\n",
            "Micro F1-score: 0.99\n",
            "\n",
            "Macro Precision: 0.98\n",
            "Macro Recall: 0.99\n",
            "Macro F1-score: 0.98\n",
            "\n",
            "Weighted Precision: 0.99\n",
            "Weighted Recall: 0.99\n",
            "Weighted F1-score: 0.99\n",
            "\n",
            "--------------- Classification Report ---------------\n",
            "\n",
            "              precision    recall  f1-score   support\n",
            "\n",
            "         0.0       0.99      0.99      0.99     23927\n",
            "         1.0       0.98      0.98      0.98     10254\n",
            "\n",
            "    accuracy                           0.99     34181\n",
            "   macro avg       0.98      0.99      0.98     34181\n",
            "weighted avg       0.99      0.99      0.99     34181\n",
            "\n",
            "---------------------- XGBoost ----------------------\n"
          ]
        }
      ],
      "source": [
        "\n",
        "y_pred = clf.predict(X_test)\n",
        "\n",
        "print('\\n------------------ Confusion Matrix -----------------\\n')\n",
        "print(confusion_matrix(y_test, y_pred))\n",
        "\n",
        "print('\\n-------------------- Key Metrics --------------------')\n",
        "print('\\nAccuracy: {:.2f}'.format(accuracy_score(y_test, y_pred)))\n",
        "print('Balanced Accuracy: {:.2f}\\n'.format(balanced_accuracy_score(y_test, y_pred)))\n",
        "\n",
        "print('Micro Precision: {:.2f}'.format(precision_score(y_test, y_pred, average='micro')))\n",
        "print('Micro Recall: {:.2f}'.format(recall_score(y_test, y_pred, average='micro')))\n",
        "print('Micro F1-score: {:.2f}\\n'.format(f1_score(y_test, y_pred, average='micro')))\n",
        "\n",
        "print('Macro Precision: {:.2f}'.format(precision_score(y_test, y_pred, average='macro')))\n",
        "print('Macro Recall: {:.2f}'.format(recall_score(y_test, y_pred, average='macro')))\n",
        "print('Macro F1-score: {:.2f}\\n'.format(f1_score(y_test, y_pred, average='macro')))\n",
        "\n",
        "print('Weighted Precision: {:.2f}'.format(precision_score(y_test, y_pred, average='weighted')))\n",
        "print('Weighted Recall: {:.2f}'.format(recall_score(y_test, y_pred, average='weighted')))\n",
        "print('Weighted F1-score: {:.2f}'.format(f1_score(y_test, y_pred, average='weighted')))\n",
        "\n",
        "print('\\n--------------- Classification Report ---------------\\n')\n",
        "print(classification_report(y_test, y_pred))\n",
        "print('---------------------- XGBoost ----------------------')"
      ]
    },
    {
      "cell_type": "markdown",
      "source": [
        "## **Model testing with given Test data**"
      ],
      "metadata": {
        "id": "6NEbAXKaDHjm"
      }
    },
    {
      "cell_type": "code",
      "source": [
        "complete_test_data=pd.read_csv(\"/content/drive/MyDrive/Colab Notebooks/data/Doceree-HCP_Test.csv\" ,encoding = \"ISO-8859-1\")\n",
        "complete_test_data"
      ],
      "metadata": {
        "id": "tl9qdmgvDN7C",
        "colab": {
          "base_uri": "https://localhost:8080/",
          "height": 1000
        },
        "outputId": "26af681f-1687-470d-c5f0-c88aec4db59c"
      },
      "execution_count": null,
      "outputs": [
        {
          "output_type": "execute_result",
          "data": {
            "text/plain": [
              "           ID DEVICETYPE  PLATFORM_ID     BIDREQUESTIP  \\\n",
              "0      115501    Desktop            2   75.189.231.103   \n",
              "1      115502     Mobile            2    24.101.33.158   \n",
              "2      115503    Desktop            2  172.118.216.142   \n",
              "3      115504    Desktop            7   71.105.120.171   \n",
              "4      115505    Desktop            2     73.82.211.73   \n",
              "...       ...        ...          ...              ...   \n",
              "28488  143989    Desktop            2   69.202.233.241   \n",
              "28489  143990    Desktop            7      75.4.190.65   \n",
              "28490  143991    Desktop            7    137.52.180.45   \n",
              "28491  143992    Desktop            8      66.249.66.4   \n",
              "28492  143993    Desktop            2   107.194.33.149   \n",
              "\n",
              "                            USERPLATFORMUID         USERCITY  USERZIPCODE  \\\n",
              "0      0d5041ff-f0b6-4d1a-9ad7-0a29f7d485b4     Fayetteville      28305.0   \n",
              "1      c8396dd0-969f-4d99-a40b-b7bb1f516154    Conneaut Lake      16316.0   \n",
              "2      3c97a081-6518-43f8-9f26-369759cfb471           Covina      91724.0   \n",
              "3      3e2578c8-f794-41af-a38c-c5cfb3c0f014         Brooklyn      11226.0   \n",
              "4      ec2ae7ce-6a8c-4156-98a7-07203e60f483         Marietta      30062.0   \n",
              "...                                     ...              ...          ...   \n",
              "28488  78ce4bbe-3885-4c14-b945-a0ea1e4574f4         Brooklyn      11215.0   \n",
              "28489  a53799e1-b279-40cf-b467-11b4d659e325            Miami      33178.0   \n",
              "28490  acc732a8-2ee9-4e2c-9933-70e34db48101  Fort Lauderdale      33314.0   \n",
              "28491  dce21294-b105-4abb-b145-4e62d71def44              NaN          NaN   \n",
              "28492  f9b193b0-82b0-4ac8-b24a-5635401ca934       Wilmington      28412.0   \n",
              "\n",
              "                                               USERAGENT  \\\n",
              "0      Mozilla/5.0 (Macintosh; Intel Mac OS X 10_11_6...   \n",
              "1      Mozilla/5.0 (iPhone; CPU iPhone OS 15_6_1 like...   \n",
              "2      Mozilla/5.0 (Macintosh; Intel Mac OS X 10_15_7...   \n",
              "3      Mozilla/5.0 (Macintosh; Intel Mac OS X 10_15_7...   \n",
              "4      Mozilla/5.0 (Windows NT 10.0; Win64; x64) Appl...   \n",
              "...                                                  ...   \n",
              "28488  Mozilla/5.0 (Windows NT 10.0; WOW64) AppleWebK...   \n",
              "28489  Mozilla/5.0 (Windows NT 10.0; Win64; x64) Appl...   \n",
              "28490  Mozilla/5.0 (Macintosh; Intel Mac OS X 10_15_7...   \n",
              "28491  Mozilla/5.0 (Linux; Android 6.0.1; Nexus 5X Bu...   \n",
              "28492  Mozilla/5.0 (Windows NT 10.0; Win64; x64) Appl...   \n",
              "\n",
              "                 PLATFORMTYPE CHANNELTYPE  \\\n",
              "0      Online Medical Journal     Website   \n",
              "1      Online Medical Journal     Website   \n",
              "2      Online Medical Journal     Website   \n",
              "3      Online Medical Journal     Website   \n",
              "4      Online Medical Journal     Website   \n",
              "...                       ...         ...   \n",
              "28488  Online Medical Journal     Website   \n",
              "28489  Online Medical Journal     Website   \n",
              "28490  Online Medical Journal     Website   \n",
              "28491  Online Medical Journal     Website   \n",
              "28492  Online Medical Journal     Website   \n",
              "\n",
              "                                                     URL  \\\n",
              "0      https://www.clinicaladvisor.com/home/features/...   \n",
              "1      https://www.ophthalmologyadvisor.com/topics/ca...   \n",
              "2      https://www.psychiatryadvisor.com/author/tori-...   \n",
              "3      https://www.cureus.com/articles/105482-diverti...   \n",
              "4      https://www.renalandurologynews.com/home/confe...   \n",
              "...                                                  ...   \n",
              "28488  https://www.renalandurologynews.com/home/news/...   \n",
              "28489  https://www.cureus.com/publish/articles/144818...   \n",
              "28490  https://www.cureus.com/registrations/continue?...   \n",
              "28491  https://radrounds.com/radiology-case-images-te...   \n",
              "28492  https://www.clinicalpainadvisor.com/regulatory...   \n",
              "\n",
              "                                                KEYWORDS  \n",
              "0      Family Practice|Drainage|Clinical|Dermatology|...  \n",
              "1      General|Clinical|Operative|Medicine|Cardiology...  \n",
              "2      Abortion|Anxiety Disorders|Apnea|False|Trauma|...  \n",
              "3      Health|Male|Neurological Surgery|Otolaryngolog...  \n",
              "4      chronic kidney disease|pain|nephrology|disease...  \n",
              "...                                                  ...  \n",
              "28488  Transplantation|Psychiatry|Heart Failure|Angio...  \n",
              "28489  small|hospitals|nephrology|emergency medicine|...  \n",
              "28490  small|hospitals|nephrology|emergency medicine|...  \n",
              "28491  the|disease|pain|radiology|lung abscess|dyspar...  \n",
              "28492  Medicine|General|Clinical|False|Urology|Total|...  \n",
              "\n",
              "[28493 rows x 12 columns]"
            ],
            "text/html": [
              "\n",
              "  <div id=\"df-0010030d-1cfc-4d32-8667-9d95c1b90ad5\">\n",
              "    <div class=\"colab-df-container\">\n",
              "      <div>\n",
              "<style scoped>\n",
              "    .dataframe tbody tr th:only-of-type {\n",
              "        vertical-align: middle;\n",
              "    }\n",
              "\n",
              "    .dataframe tbody tr th {\n",
              "        vertical-align: top;\n",
              "    }\n",
              "\n",
              "    .dataframe thead th {\n",
              "        text-align: right;\n",
              "    }\n",
              "</style>\n",
              "<table border=\"1\" class=\"dataframe\">\n",
              "  <thead>\n",
              "    <tr style=\"text-align: right;\">\n",
              "      <th></th>\n",
              "      <th>ID</th>\n",
              "      <th>DEVICETYPE</th>\n",
              "      <th>PLATFORM_ID</th>\n",
              "      <th>BIDREQUESTIP</th>\n",
              "      <th>USERPLATFORMUID</th>\n",
              "      <th>USERCITY</th>\n",
              "      <th>USERZIPCODE</th>\n",
              "      <th>USERAGENT</th>\n",
              "      <th>PLATFORMTYPE</th>\n",
              "      <th>CHANNELTYPE</th>\n",
              "      <th>URL</th>\n",
              "      <th>KEYWORDS</th>\n",
              "    </tr>\n",
              "  </thead>\n",
              "  <tbody>\n",
              "    <tr>\n",
              "      <th>0</th>\n",
              "      <td>115501</td>\n",
              "      <td>Desktop</td>\n",
              "      <td>2</td>\n",
              "      <td>75.189.231.103</td>\n",
              "      <td>0d5041ff-f0b6-4d1a-9ad7-0a29f7d485b4</td>\n",
              "      <td>Fayetteville</td>\n",
              "      <td>28305.0</td>\n",
              "      <td>Mozilla/5.0 (Macintosh; Intel Mac OS X 10_11_6...</td>\n",
              "      <td>Online Medical Journal</td>\n",
              "      <td>Website</td>\n",
              "      <td>https://www.clinicaladvisor.com/home/features/...</td>\n",
              "      <td>Family Practice|Drainage|Clinical|Dermatology|...</td>\n",
              "    </tr>\n",
              "    <tr>\n",
              "      <th>1</th>\n",
              "      <td>115502</td>\n",
              "      <td>Mobile</td>\n",
              "      <td>2</td>\n",
              "      <td>24.101.33.158</td>\n",
              "      <td>c8396dd0-969f-4d99-a40b-b7bb1f516154</td>\n",
              "      <td>Conneaut Lake</td>\n",
              "      <td>16316.0</td>\n",
              "      <td>Mozilla/5.0 (iPhone; CPU iPhone OS 15_6_1 like...</td>\n",
              "      <td>Online Medical Journal</td>\n",
              "      <td>Website</td>\n",
              "      <td>https://www.ophthalmologyadvisor.com/topics/ca...</td>\n",
              "      <td>General|Clinical|Operative|Medicine|Cardiology...</td>\n",
              "    </tr>\n",
              "    <tr>\n",
              "      <th>2</th>\n",
              "      <td>115503</td>\n",
              "      <td>Desktop</td>\n",
              "      <td>2</td>\n",
              "      <td>172.118.216.142</td>\n",
              "      <td>3c97a081-6518-43f8-9f26-369759cfb471</td>\n",
              "      <td>Covina</td>\n",
              "      <td>91724.0</td>\n",
              "      <td>Mozilla/5.0 (Macintosh; Intel Mac OS X 10_15_7...</td>\n",
              "      <td>Online Medical Journal</td>\n",
              "      <td>Website</td>\n",
              "      <td>https://www.psychiatryadvisor.com/author/tori-...</td>\n",
              "      <td>Abortion|Anxiety Disorders|Apnea|False|Trauma|...</td>\n",
              "    </tr>\n",
              "    <tr>\n",
              "      <th>3</th>\n",
              "      <td>115504</td>\n",
              "      <td>Desktop</td>\n",
              "      <td>7</td>\n",
              "      <td>71.105.120.171</td>\n",
              "      <td>3e2578c8-f794-41af-a38c-c5cfb3c0f014</td>\n",
              "      <td>Brooklyn</td>\n",
              "      <td>11226.0</td>\n",
              "      <td>Mozilla/5.0 (Macintosh; Intel Mac OS X 10_15_7...</td>\n",
              "      <td>Online Medical Journal</td>\n",
              "      <td>Website</td>\n",
              "      <td>https://www.cureus.com/articles/105482-diverti...</td>\n",
              "      <td>Health|Male|Neurological Surgery|Otolaryngolog...</td>\n",
              "    </tr>\n",
              "    <tr>\n",
              "      <th>4</th>\n",
              "      <td>115505</td>\n",
              "      <td>Desktop</td>\n",
              "      <td>2</td>\n",
              "      <td>73.82.211.73</td>\n",
              "      <td>ec2ae7ce-6a8c-4156-98a7-07203e60f483</td>\n",
              "      <td>Marietta</td>\n",
              "      <td>30062.0</td>\n",
              "      <td>Mozilla/5.0 (Windows NT 10.0; Win64; x64) Appl...</td>\n",
              "      <td>Online Medical Journal</td>\n",
              "      <td>Website</td>\n",
              "      <td>https://www.renalandurologynews.com/home/confe...</td>\n",
              "      <td>chronic kidney disease|pain|nephrology|disease...</td>\n",
              "    </tr>\n",
              "    <tr>\n",
              "      <th>...</th>\n",
              "      <td>...</td>\n",
              "      <td>...</td>\n",
              "      <td>...</td>\n",
              "      <td>...</td>\n",
              "      <td>...</td>\n",
              "      <td>...</td>\n",
              "      <td>...</td>\n",
              "      <td>...</td>\n",
              "      <td>...</td>\n",
              "      <td>...</td>\n",
              "      <td>...</td>\n",
              "      <td>...</td>\n",
              "    </tr>\n",
              "    <tr>\n",
              "      <th>28488</th>\n",
              "      <td>143989</td>\n",
              "      <td>Desktop</td>\n",
              "      <td>2</td>\n",
              "      <td>69.202.233.241</td>\n",
              "      <td>78ce4bbe-3885-4c14-b945-a0ea1e4574f4</td>\n",
              "      <td>Brooklyn</td>\n",
              "      <td>11215.0</td>\n",
              "      <td>Mozilla/5.0 (Windows NT 10.0; WOW64) AppleWebK...</td>\n",
              "      <td>Online Medical Journal</td>\n",
              "      <td>Website</td>\n",
              "      <td>https://www.renalandurologynews.com/home/news/...</td>\n",
              "      <td>Transplantation|Psychiatry|Heart Failure|Angio...</td>\n",
              "    </tr>\n",
              "    <tr>\n",
              "      <th>28489</th>\n",
              "      <td>143990</td>\n",
              "      <td>Desktop</td>\n",
              "      <td>7</td>\n",
              "      <td>75.4.190.65</td>\n",
              "      <td>a53799e1-b279-40cf-b467-11b4d659e325</td>\n",
              "      <td>Miami</td>\n",
              "      <td>33178.0</td>\n",
              "      <td>Mozilla/5.0 (Windows NT 10.0; Win64; x64) Appl...</td>\n",
              "      <td>Online Medical Journal</td>\n",
              "      <td>Website</td>\n",
              "      <td>https://www.cureus.com/publish/articles/144818...</td>\n",
              "      <td>small|hospitals|nephrology|emergency medicine|...</td>\n",
              "    </tr>\n",
              "    <tr>\n",
              "      <th>28490</th>\n",
              "      <td>143991</td>\n",
              "      <td>Desktop</td>\n",
              "      <td>7</td>\n",
              "      <td>137.52.180.45</td>\n",
              "      <td>acc732a8-2ee9-4e2c-9933-70e34db48101</td>\n",
              "      <td>Fort Lauderdale</td>\n",
              "      <td>33314.0</td>\n",
              "      <td>Mozilla/5.0 (Macintosh; Intel Mac OS X 10_15_7...</td>\n",
              "      <td>Online Medical Journal</td>\n",
              "      <td>Website</td>\n",
              "      <td>https://www.cureus.com/registrations/continue?...</td>\n",
              "      <td>small|hospitals|nephrology|emergency medicine|...</td>\n",
              "    </tr>\n",
              "    <tr>\n",
              "      <th>28491</th>\n",
              "      <td>143992</td>\n",
              "      <td>Desktop</td>\n",
              "      <td>8</td>\n",
              "      <td>66.249.66.4</td>\n",
              "      <td>dce21294-b105-4abb-b145-4e62d71def44</td>\n",
              "      <td>NaN</td>\n",
              "      <td>NaN</td>\n",
              "      <td>Mozilla/5.0 (Linux; Android 6.0.1; Nexus 5X Bu...</td>\n",
              "      <td>Online Medical Journal</td>\n",
              "      <td>Website</td>\n",
              "      <td>https://radrounds.com/radiology-case-images-te...</td>\n",
              "      <td>the|disease|pain|radiology|lung abscess|dyspar...</td>\n",
              "    </tr>\n",
              "    <tr>\n",
              "      <th>28492</th>\n",
              "      <td>143993</td>\n",
              "      <td>Desktop</td>\n",
              "      <td>2</td>\n",
              "      <td>107.194.33.149</td>\n",
              "      <td>f9b193b0-82b0-4ac8-b24a-5635401ca934</td>\n",
              "      <td>Wilmington</td>\n",
              "      <td>28412.0</td>\n",
              "      <td>Mozilla/5.0 (Windows NT 10.0; Win64; x64) Appl...</td>\n",
              "      <td>Online Medical Journal</td>\n",
              "      <td>Website</td>\n",
              "      <td>https://www.clinicalpainadvisor.com/regulatory...</td>\n",
              "      <td>Medicine|General|Clinical|False|Urology|Total|...</td>\n",
              "    </tr>\n",
              "  </tbody>\n",
              "</table>\n",
              "<p>28493 rows × 12 columns</p>\n",
              "</div>\n",
              "      <button class=\"colab-df-convert\" onclick=\"convertToInteractive('df-0010030d-1cfc-4d32-8667-9d95c1b90ad5')\"\n",
              "              title=\"Convert this dataframe to an interactive table.\"\n",
              "              style=\"display:none;\">\n",
              "        \n",
              "  <svg xmlns=\"http://www.w3.org/2000/svg\" height=\"24px\"viewBox=\"0 0 24 24\"\n",
              "       width=\"24px\">\n",
              "    <path d=\"M0 0h24v24H0V0z\" fill=\"none\"/>\n",
              "    <path d=\"M18.56 5.44l.94 2.06.94-2.06 2.06-.94-2.06-.94-.94-2.06-.94 2.06-2.06.94zm-11 1L8.5 8.5l.94-2.06 2.06-.94-2.06-.94L8.5 2.5l-.94 2.06-2.06.94zm10 10l.94 2.06.94-2.06 2.06-.94-2.06-.94-.94-2.06-.94 2.06-2.06.94z\"/><path d=\"M17.41 7.96l-1.37-1.37c-.4-.4-.92-.59-1.43-.59-.52 0-1.04.2-1.43.59L10.3 9.45l-7.72 7.72c-.78.78-.78 2.05 0 2.83L4 21.41c.39.39.9.59 1.41.59.51 0 1.02-.2 1.41-.59l7.78-7.78 2.81-2.81c.8-.78.8-2.07 0-2.86zM5.41 20L4 18.59l7.72-7.72 1.47 1.35L5.41 20z\"/>\n",
              "  </svg>\n",
              "      </button>\n",
              "      \n",
              "  <style>\n",
              "    .colab-df-container {\n",
              "      display:flex;\n",
              "      flex-wrap:wrap;\n",
              "      gap: 12px;\n",
              "    }\n",
              "\n",
              "    .colab-df-convert {\n",
              "      background-color: #E8F0FE;\n",
              "      border: none;\n",
              "      border-radius: 50%;\n",
              "      cursor: pointer;\n",
              "      display: none;\n",
              "      fill: #1967D2;\n",
              "      height: 32px;\n",
              "      padding: 0 0 0 0;\n",
              "      width: 32px;\n",
              "    }\n",
              "\n",
              "    .colab-df-convert:hover {\n",
              "      background-color: #E2EBFA;\n",
              "      box-shadow: 0px 1px 2px rgba(60, 64, 67, 0.3), 0px 1px 3px 1px rgba(60, 64, 67, 0.15);\n",
              "      fill: #174EA6;\n",
              "    }\n",
              "\n",
              "    [theme=dark] .colab-df-convert {\n",
              "      background-color: #3B4455;\n",
              "      fill: #D2E3FC;\n",
              "    }\n",
              "\n",
              "    [theme=dark] .colab-df-convert:hover {\n",
              "      background-color: #434B5C;\n",
              "      box-shadow: 0px 1px 3px 1px rgba(0, 0, 0, 0.15);\n",
              "      filter: drop-shadow(0px 1px 2px rgba(0, 0, 0, 0.3));\n",
              "      fill: #FFFFFF;\n",
              "    }\n",
              "  </style>\n",
              "\n",
              "      <script>\n",
              "        const buttonEl =\n",
              "          document.querySelector('#df-0010030d-1cfc-4d32-8667-9d95c1b90ad5 button.colab-df-convert');\n",
              "        buttonEl.style.display =\n",
              "          google.colab.kernel.accessAllowed ? 'block' : 'none';\n",
              "\n",
              "        async function convertToInteractive(key) {\n",
              "          const element = document.querySelector('#df-0010030d-1cfc-4d32-8667-9d95c1b90ad5');\n",
              "          const dataTable =\n",
              "            await google.colab.kernel.invokeFunction('convertToInteractive',\n",
              "                                                     [key], {});\n",
              "          if (!dataTable) return;\n",
              "\n",
              "          const docLinkHtml = 'Like what you see? Visit the ' +\n",
              "            '<a target=\"_blank\" href=https://colab.research.google.com/notebooks/data_table.ipynb>data table notebook</a>'\n",
              "            + ' to learn more about interactive tables.';\n",
              "          element.innerHTML = '';\n",
              "          dataTable['output_type'] = 'display_data';\n",
              "          await google.colab.output.renderOutput(dataTable, element);\n",
              "          const docLink = document.createElement('div');\n",
              "          docLink.innerHTML = docLinkHtml;\n",
              "          element.appendChild(docLink);\n",
              "        }\n",
              "      </script>\n",
              "    </div>\n",
              "  </div>\n",
              "  "
            ]
          },
          "metadata": {},
          "execution_count": 42
        }
      ]
    },
    {
      "cell_type": "code",
      "source": [
        "complete_test_data.info()"
      ],
      "metadata": {
        "colab": {
          "base_uri": "https://localhost:8080/"
        },
        "id": "qIQAt-puFiHZ",
        "outputId": "60a6ebe6-884e-4b98-ca99-387e7a4148b2"
      },
      "execution_count": null,
      "outputs": [
        {
          "output_type": "stream",
          "name": "stdout",
          "text": [
            "<class 'pandas.core.frame.DataFrame'>\n",
            "RangeIndex: 28493 entries, 0 to 28492\n",
            "Data columns (total 12 columns):\n",
            " #   Column           Non-Null Count  Dtype  \n",
            "---  ------           --------------  -----  \n",
            " 0   ID               28493 non-null  int64  \n",
            " 1   DEVICETYPE       28493 non-null  object \n",
            " 2   PLATFORM_ID      28493 non-null  int64  \n",
            " 3   BIDREQUESTIP     28493 non-null  object \n",
            " 4   USERPLATFORMUID  28493 non-null  object \n",
            " 5   USERCITY         26934 non-null  object \n",
            " 6   USERZIPCODE      27378 non-null  float64\n",
            " 7   USERAGENT        28492 non-null  object \n",
            " 8   PLATFORMTYPE     28493 non-null  object \n",
            " 9   CHANNELTYPE      28493 non-null  object \n",
            " 10  URL              28493 non-null  object \n",
            " 11  KEYWORDS         28493 non-null  object \n",
            "dtypes: float64(1), int64(2), object(9)\n",
            "memory usage: 2.6+ MB\n"
          ]
        }
      ]
    },
    {
      "cell_type": "markdown",
      "source": [
        "### Data preprocessing"
      ],
      "metadata": {
        "id": "H1IMvMQFj3Vc"
      }
    },
    {
      "cell_type": "code",
      "source": [
        "IDs=complete_test_data['ID']\n",
        "complete_test_data['KEYWORDS']=complete_test_data['KEYWORDS'].apply(transform_message)\n",
        "complete_test_data.drop(['ID','USERPLATFORMUID','USERZIPCODE','CHANNELTYPE','URL','USERAGENT','PLATFORM_ID','BIDREQUESTIP'], axis=1, inplace= True)"
      ],
      "metadata": {
        "id": "BnOJDAVNDGmr"
      },
      "execution_count": null,
      "outputs": []
    },
    {
      "cell_type": "code",
      "source": [
        "complete_test_data['USERCITY']=complete_test_data['USERCITY'].fillna(complete_data['USERCITY'].mode().iloc[0])"
      ],
      "metadata": {
        "id": "YdHmHINzHONp"
      },
      "execution_count": null,
      "outputs": []
    },
    {
      "cell_type": "code",
      "source": [
        "complete_test_data['KEYWORDS']=complete_test_data['KEYWORDS'].astype(\"category\").cat.set_categories(X_train['KEYWORDS'].cat.categories)\n",
        "complete_test_data[\"DEVICETYPE\"]=complete_test_data[\"DEVICETYPE\"].astype(\"category\").cat.set_categories(X_train['DEVICETYPE'].cat.categories)\n",
        "complete_test_data['USERCITY']=complete_test_data['USERCITY'].astype(\"category\").cat.set_categories(X_train['USERCITY'].cat.categories)\n",
        "complete_test_data['PLATFORMTYPE']=complete_test_data['PLATFORMTYPE'].astype(\"category\").cat.set_categories(X_train['PLATFORMTYPE'].cat.categories)"
      ],
      "metadata": {
        "id": "inRwR6txHU9z"
      },
      "execution_count": null,
      "outputs": []
    },
    {
      "cell_type": "markdown",
      "source": [
        "### Prediction"
      ],
      "metadata": {
        "id": "Nyrq3RY8kgeW"
      }
    },
    {
      "cell_type": "code",
      "source": [
        "y_test_pred=clf.predict(complete_test_data)\n",
        "y_test_pred"
      ],
      "metadata": {
        "colab": {
          "base_uri": "https://localhost:8080/"
        },
        "id": "qsvZz4w6KM8_",
        "outputId": "6ac8aaa1-c795-4c33-8e01-03590274c379"
      },
      "execution_count": null,
      "outputs": [
        {
          "output_type": "execute_result",
          "data": {
            "text/plain": [
              "array([0, 1, 0, ..., 0, 0, 0])"
            ]
          },
          "metadata": {},
          "execution_count": 48
        }
      ]
    },
    {
      "cell_type": "code",
      "source": [
        "Output=pd.DataFrame(y_test_pred,columns=['IS_HCP'])"
      ],
      "metadata": {
        "id": "MPSfY1mcLheo"
      },
      "execution_count": null,
      "outputs": []
    },
    {
      "cell_type": "code",
      "source": [
        "Output.info"
      ],
      "metadata": {
        "colab": {
          "base_uri": "https://localhost:8080/"
        },
        "id": "tlHtg-_9MBt2",
        "outputId": "baaaa0a0-dd31-426e-ff78-bb7dff1d62b5"
      },
      "execution_count": null,
      "outputs": [
        {
          "output_type": "execute_result",
          "data": {
            "text/plain": [
              "<bound method DataFrame.info of        IS_HCP\n",
              "0           0\n",
              "1           1\n",
              "2           0\n",
              "3           0\n",
              "4           1\n",
              "...       ...\n",
              "28488       0\n",
              "28489       0\n",
              "28490       0\n",
              "28491       0\n",
              "28492       0\n",
              "\n",
              "[28493 rows x 1 columns]>"
            ]
          },
          "metadata": {},
          "execution_count": 50
        }
      ]
    },
    {
      "cell_type": "code",
      "source": [
        "Output=pd.concat([IDs,Output],axis=1)"
      ],
      "metadata": {
        "id": "C1_pCs4oMUca"
      },
      "execution_count": null,
      "outputs": []
    },
    {
      "cell_type": "code",
      "source": [
        "Output"
      ],
      "metadata": {
        "colab": {
          "base_uri": "https://localhost:8080/",
          "height": 423
        },
        "id": "LjIsAt7FMjeW",
        "outputId": "6d7b61f7-835b-4d79-9cf6-98c02257a209"
      },
      "execution_count": null,
      "outputs": [
        {
          "output_type": "execute_result",
          "data": {
            "text/plain": [
              "           ID  IS_HCP\n",
              "0      115501       0\n",
              "1      115502       1\n",
              "2      115503       0\n",
              "3      115504       0\n",
              "4      115505       1\n",
              "...       ...     ...\n",
              "28488  143989       0\n",
              "28489  143990       0\n",
              "28490  143991       0\n",
              "28491  143992       0\n",
              "28492  143993       0\n",
              "\n",
              "[28493 rows x 2 columns]"
            ],
            "text/html": [
              "\n",
              "  <div id=\"df-499ba3fb-db14-469d-b759-b0f43aefce53\">\n",
              "    <div class=\"colab-df-container\">\n",
              "      <div>\n",
              "<style scoped>\n",
              "    .dataframe tbody tr th:only-of-type {\n",
              "        vertical-align: middle;\n",
              "    }\n",
              "\n",
              "    .dataframe tbody tr th {\n",
              "        vertical-align: top;\n",
              "    }\n",
              "\n",
              "    .dataframe thead th {\n",
              "        text-align: right;\n",
              "    }\n",
              "</style>\n",
              "<table border=\"1\" class=\"dataframe\">\n",
              "  <thead>\n",
              "    <tr style=\"text-align: right;\">\n",
              "      <th></th>\n",
              "      <th>ID</th>\n",
              "      <th>IS_HCP</th>\n",
              "    </tr>\n",
              "  </thead>\n",
              "  <tbody>\n",
              "    <tr>\n",
              "      <th>0</th>\n",
              "      <td>115501</td>\n",
              "      <td>0</td>\n",
              "    </tr>\n",
              "    <tr>\n",
              "      <th>1</th>\n",
              "      <td>115502</td>\n",
              "      <td>1</td>\n",
              "    </tr>\n",
              "    <tr>\n",
              "      <th>2</th>\n",
              "      <td>115503</td>\n",
              "      <td>0</td>\n",
              "    </tr>\n",
              "    <tr>\n",
              "      <th>3</th>\n",
              "      <td>115504</td>\n",
              "      <td>0</td>\n",
              "    </tr>\n",
              "    <tr>\n",
              "      <th>4</th>\n",
              "      <td>115505</td>\n",
              "      <td>1</td>\n",
              "    </tr>\n",
              "    <tr>\n",
              "      <th>...</th>\n",
              "      <td>...</td>\n",
              "      <td>...</td>\n",
              "    </tr>\n",
              "    <tr>\n",
              "      <th>28488</th>\n",
              "      <td>143989</td>\n",
              "      <td>0</td>\n",
              "    </tr>\n",
              "    <tr>\n",
              "      <th>28489</th>\n",
              "      <td>143990</td>\n",
              "      <td>0</td>\n",
              "    </tr>\n",
              "    <tr>\n",
              "      <th>28490</th>\n",
              "      <td>143991</td>\n",
              "      <td>0</td>\n",
              "    </tr>\n",
              "    <tr>\n",
              "      <th>28491</th>\n",
              "      <td>143992</td>\n",
              "      <td>0</td>\n",
              "    </tr>\n",
              "    <tr>\n",
              "      <th>28492</th>\n",
              "      <td>143993</td>\n",
              "      <td>0</td>\n",
              "    </tr>\n",
              "  </tbody>\n",
              "</table>\n",
              "<p>28493 rows × 2 columns</p>\n",
              "</div>\n",
              "      <button class=\"colab-df-convert\" onclick=\"convertToInteractive('df-499ba3fb-db14-469d-b759-b0f43aefce53')\"\n",
              "              title=\"Convert this dataframe to an interactive table.\"\n",
              "              style=\"display:none;\">\n",
              "        \n",
              "  <svg xmlns=\"http://www.w3.org/2000/svg\" height=\"24px\"viewBox=\"0 0 24 24\"\n",
              "       width=\"24px\">\n",
              "    <path d=\"M0 0h24v24H0V0z\" fill=\"none\"/>\n",
              "    <path d=\"M18.56 5.44l.94 2.06.94-2.06 2.06-.94-2.06-.94-.94-2.06-.94 2.06-2.06.94zm-11 1L8.5 8.5l.94-2.06 2.06-.94-2.06-.94L8.5 2.5l-.94 2.06-2.06.94zm10 10l.94 2.06.94-2.06 2.06-.94-2.06-.94-.94-2.06-.94 2.06-2.06.94z\"/><path d=\"M17.41 7.96l-1.37-1.37c-.4-.4-.92-.59-1.43-.59-.52 0-1.04.2-1.43.59L10.3 9.45l-7.72 7.72c-.78.78-.78 2.05 0 2.83L4 21.41c.39.39.9.59 1.41.59.51 0 1.02-.2 1.41-.59l7.78-7.78 2.81-2.81c.8-.78.8-2.07 0-2.86zM5.41 20L4 18.59l7.72-7.72 1.47 1.35L5.41 20z\"/>\n",
              "  </svg>\n",
              "      </button>\n",
              "      \n",
              "  <style>\n",
              "    .colab-df-container {\n",
              "      display:flex;\n",
              "      flex-wrap:wrap;\n",
              "      gap: 12px;\n",
              "    }\n",
              "\n",
              "    .colab-df-convert {\n",
              "      background-color: #E8F0FE;\n",
              "      border: none;\n",
              "      border-radius: 50%;\n",
              "      cursor: pointer;\n",
              "      display: none;\n",
              "      fill: #1967D2;\n",
              "      height: 32px;\n",
              "      padding: 0 0 0 0;\n",
              "      width: 32px;\n",
              "    }\n",
              "\n",
              "    .colab-df-convert:hover {\n",
              "      background-color: #E2EBFA;\n",
              "      box-shadow: 0px 1px 2px rgba(60, 64, 67, 0.3), 0px 1px 3px 1px rgba(60, 64, 67, 0.15);\n",
              "      fill: #174EA6;\n",
              "    }\n",
              "\n",
              "    [theme=dark] .colab-df-convert {\n",
              "      background-color: #3B4455;\n",
              "      fill: #D2E3FC;\n",
              "    }\n",
              "\n",
              "    [theme=dark] .colab-df-convert:hover {\n",
              "      background-color: #434B5C;\n",
              "      box-shadow: 0px 1px 3px 1px rgba(0, 0, 0, 0.15);\n",
              "      filter: drop-shadow(0px 1px 2px rgba(0, 0, 0, 0.3));\n",
              "      fill: #FFFFFF;\n",
              "    }\n",
              "  </style>\n",
              "\n",
              "      <script>\n",
              "        const buttonEl =\n",
              "          document.querySelector('#df-499ba3fb-db14-469d-b759-b0f43aefce53 button.colab-df-convert');\n",
              "        buttonEl.style.display =\n",
              "          google.colab.kernel.accessAllowed ? 'block' : 'none';\n",
              "\n",
              "        async function convertToInteractive(key) {\n",
              "          const element = document.querySelector('#df-499ba3fb-db14-469d-b759-b0f43aefce53');\n",
              "          const dataTable =\n",
              "            await google.colab.kernel.invokeFunction('convertToInteractive',\n",
              "                                                     [key], {});\n",
              "          if (!dataTable) return;\n",
              "\n",
              "          const docLinkHtml = 'Like what you see? Visit the ' +\n",
              "            '<a target=\"_blank\" href=https://colab.research.google.com/notebooks/data_table.ipynb>data table notebook</a>'\n",
              "            + ' to learn more about interactive tables.';\n",
              "          element.innerHTML = '';\n",
              "          dataTable['output_type'] = 'display_data';\n",
              "          await google.colab.output.renderOutput(dataTable, element);\n",
              "          const docLink = document.createElement('div');\n",
              "          docLink.innerHTML = docLinkHtml;\n",
              "          element.appendChild(docLink);\n",
              "        }\n",
              "      </script>\n",
              "    </div>\n",
              "  </div>\n",
              "  "
            ]
          },
          "metadata": {},
          "execution_count": 52
        }
      ]
    },
    {
      "cell_type": "markdown",
      "source": [
        "### Output file"
      ],
      "metadata": {
        "id": "o946UveAkmKV"
      }
    },
    {
      "cell_type": "code",
      "source": [
        "output_file='/content/drive/MyDrive/Colab Notebooks/data/Output.csv'\n",
        "Output.to_csv(output_file,index=False)"
      ],
      "metadata": {
        "id": "9auLxaeWNbP-"
      },
      "execution_count": null,
      "outputs": []
    },
    {
      "cell_type": "markdown",
      "source": [
        "# Model version_2 including TAXONOMY"
      ],
      "metadata": {
        "id": "tw_xwkcE4Dhw"
      }
    },
    {
      "cell_type": "markdown",
      "source": [
        "### Loading data"
      ],
      "metadata": {
        "id": "-HHXlvfAlNnl"
      }
    },
    {
      "cell_type": "code",
      "source": [
        "New_data=pd.read_csv(\"/content/drive/MyDrive/Colab Notebooks/data/Doceree-HCP_Train.csv\",encoding = \"ISO-8859-1\")"
      ],
      "metadata": {
        "id": "YZGw-1G139sZ"
      },
      "execution_count": null,
      "outputs": []
    },
    {
      "cell_type": "markdown",
      "source": [
        "### Data preprocessing"
      ],
      "metadata": {
        "id": "TBcdfRVZlcK9"
      }
    },
    {
      "cell_type": "code",
      "source": [
        "New_data.dropna(subset=['TAXONOMY'], inplace= True)"
      ],
      "metadata": {
        "id": "dCK_IlzI4kOB"
      },
      "execution_count": null,
      "outputs": []
    },
    {
      "cell_type": "code",
      "source": [
        "New_data['KEYWORDS']=New_data['KEYWORDS'].apply(transform_message)"
      ],
      "metadata": {
        "id": "JAgZbmcM5GeE"
      },
      "execution_count": null,
      "outputs": []
    },
    {
      "cell_type": "code",
      "source": [
        "New_data['KEYWORDS']=New_data['KEYWORDS'].astype(\"category\")\n",
        "y=pd.get_dummies(New_data['TAXONOMY'])\n",
        "columns_names=y.columns\n",
        "columns_names"
      ],
      "metadata": {
        "colab": {
          "base_uri": "https://localhost:8080/"
        },
        "id": "Q-vOaYTV5a2T",
        "outputId": "7620212f-7531-4a61-b8be-342e0671823c"
      },
      "execution_count": null,
      "outputs": [
        {
          "output_type": "execute_result",
          "data": {
            "text/plain": [
              "Index(['103T00000X', '103TC0700X', '1041C0700X', '106H00000X', '111N00000X',\n",
              "       '122300000X', '1223P0221X', '146D00000X', '152W00000X', '163W00000X',\n",
              "       ...\n",
              "       '364S00000X', '364SF0001X', '364SP0807X', '364SP0808X', '364SP0809X',\n",
              "       '367500000X', '367A00000X', '367H00000X', '376K00000X', '390200000X'],\n",
              "      dtype='object', length=207)"
            ]
          },
          "metadata": {},
          "execution_count": 100
        }
      ]
    },
    {
      "cell_type": "code",
      "source": [
        "New_data.info()"
      ],
      "metadata": {
        "colab": {
          "base_uri": "https://localhost:8080/"
        },
        "id": "2LVBfatc9gzR",
        "outputId": "2c23a9c3-4ce6-49bd-c863-2a31a34c40f3"
      },
      "execution_count": null,
      "outputs": [
        {
          "output_type": "stream",
          "name": "stdout",
          "text": [
            "<class 'pandas.core.frame.DataFrame'>\n",
            "Int64Index: 32313 entries, 3 to 113936\n",
            "Data columns (total 14 columns):\n",
            " #   Column           Non-Null Count  Dtype   \n",
            "---  ------           --------------  -----   \n",
            " 0   ID               32313 non-null  int64   \n",
            " 1   DEVICETYPE       32313 non-null  object  \n",
            " 2   PLATFORM_ID      32313 non-null  int64   \n",
            " 3   BIDREQUESTIP     32313 non-null  object  \n",
            " 4   USERPLATFORMUID  32309 non-null  object  \n",
            " 5   USERCITY         32313 non-null  object  \n",
            " 6   USERZIPCODE      32313 non-null  float64 \n",
            " 7   USERAGENT        32313 non-null  object  \n",
            " 8   PLATFORMTYPE     32313 non-null  object  \n",
            " 9   CHANNELTYPE      32313 non-null  object  \n",
            " 10  URL              32313 non-null  object  \n",
            " 11  KEYWORDS         32313 non-null  category\n",
            " 12  TAXONOMY         32313 non-null  object  \n",
            " 13  IS_HCP           32313 non-null  float64 \n",
            "dtypes: category(1), float64(2), int64(2), object(9)\n",
            "memory usage: 3.6+ MB\n"
          ]
        }
      ]
    },
    {
      "cell_type": "code",
      "source": [
        "X_train2, X_test2, y_train2, y_test2 = train_test_split(New_data['KEYWORDS'], y,test_size=0.3, random_state=42)"
      ],
      "metadata": {
        "id": "d3F8aVET5m07"
      },
      "execution_count": null,
      "outputs": []
    },
    {
      "cell_type": "markdown",
      "source": [
        "### Model intialization and training"
      ],
      "metadata": {
        "id": "kW4D5MKAlw5P"
      }
    },
    {
      "cell_type": "code",
      "source": [
        "clf_v2 = xgb.XGBClassifier(tree_method=\"gpu_hist\",enable_categorical=True,max_cat_to_onehot=1)\n",
        "clf_v2.fit(X_train2,\n",
        "            y_train2,\n",
        "            verbose=1, # set to 1 to see xgb training round intermediate results\n",
        "           eval_set=[(X_train2, y_train2), (X_test2, y_test2)])"
      ],
      "metadata": {
        "colab": {
          "base_uri": "https://localhost:8080/",
          "height": 1000
        },
        "id": "qmBGojVR5uxA",
        "outputId": "5efc7b04-5cbb-4839-cc0e-53433ff486a5"
      },
      "execution_count": null,
      "outputs": [
        {
          "output_type": "stream",
          "name": "stdout",
          "text": [
            "[0]\tvalidation_0-logloss:0.44162\tvalidation_1-logloss:0.44164\n",
            "[1]\tvalidation_0-logloss:0.30282\tvalidation_1-logloss:0.30287\n",
            "[2]\tvalidation_0-logloss:0.21555\tvalidation_1-logloss:0.21563\n",
            "[3]\tvalidation_0-logloss:0.15734\tvalidation_1-logloss:0.15743\n",
            "[4]\tvalidation_0-logloss:0.11718\tvalidation_1-logloss:0.11729\n",
            "[5]\tvalidation_0-logloss:0.08894\tvalidation_1-logloss:0.08906\n",
            "[6]\tvalidation_0-logloss:0.06880\tvalidation_1-logloss:0.06894\n",
            "[7]\tvalidation_0-logloss:0.05429\tvalidation_1-logloss:0.05447\n",
            "[8]\tvalidation_0-logloss:0.04381\tvalidation_1-logloss:0.04401\n",
            "[9]\tvalidation_0-logloss:0.03617\tvalidation_1-logloss:0.03640\n",
            "[10]\tvalidation_0-logloss:0.03063\tvalidation_1-logloss:0.03089\n",
            "[11]\tvalidation_0-logloss:0.02658\tvalidation_1-logloss:0.02687\n",
            "[12]\tvalidation_0-logloss:0.02362\tvalidation_1-logloss:0.02395\n",
            "[13]\tvalidation_0-logloss:0.02146\tvalidation_1-logloss:0.02183\n",
            "[14]\tvalidation_0-logloss:0.01988\tvalidation_1-logloss:0.02029\n",
            "[15]\tvalidation_0-logloss:0.01873\tvalidation_1-logloss:0.01918\n",
            "[16]\tvalidation_0-logloss:0.01788\tvalidation_1-logloss:0.01838\n",
            "[17]\tvalidation_0-logloss:0.01726\tvalidation_1-logloss:0.01780\n",
            "[18]\tvalidation_0-logloss:0.01681\tvalidation_1-logloss:0.01738\n",
            "[19]\tvalidation_0-logloss:0.01648\tvalidation_1-logloss:0.01708\n",
            "[20]\tvalidation_0-logloss:0.01622\tvalidation_1-logloss:0.01686\n",
            "[21]\tvalidation_0-logloss:0.01604\tvalidation_1-logloss:0.01671\n",
            "[22]\tvalidation_0-logloss:0.01589\tvalidation_1-logloss:0.01659\n",
            "[23]\tvalidation_0-logloss:0.01578\tvalidation_1-logloss:0.01651\n",
            "[24]\tvalidation_0-logloss:0.01569\tvalidation_1-logloss:0.01645\n",
            "[25]\tvalidation_0-logloss:0.01562\tvalidation_1-logloss:0.01641\n",
            "[26]\tvalidation_0-logloss:0.01557\tvalidation_1-logloss:0.01638\n",
            "[27]\tvalidation_0-logloss:0.01552\tvalidation_1-logloss:0.01635\n",
            "[28]\tvalidation_0-logloss:0.01548\tvalidation_1-logloss:0.01633\n",
            "[29]\tvalidation_0-logloss:0.01544\tvalidation_1-logloss:0.01632\n",
            "[30]\tvalidation_0-logloss:0.01541\tvalidation_1-logloss:0.01631\n",
            "[31]\tvalidation_0-logloss:0.01538\tvalidation_1-logloss:0.01629\n",
            "[32]\tvalidation_0-logloss:0.01535\tvalidation_1-logloss:0.01629\n",
            "[33]\tvalidation_0-logloss:0.01533\tvalidation_1-logloss:0.01628\n",
            "[34]\tvalidation_0-logloss:0.01531\tvalidation_1-logloss:0.01627\n",
            "[35]\tvalidation_0-logloss:0.01529\tvalidation_1-logloss:0.01626\n",
            "[36]\tvalidation_0-logloss:0.01527\tvalidation_1-logloss:0.01626\n",
            "[37]\tvalidation_0-logloss:0.01526\tvalidation_1-logloss:0.01625\n",
            "[38]\tvalidation_0-logloss:0.01525\tvalidation_1-logloss:0.01624\n",
            "[39]\tvalidation_0-logloss:0.01523\tvalidation_1-logloss:0.01624\n",
            "[40]\tvalidation_0-logloss:0.01522\tvalidation_1-logloss:0.01624\n",
            "[41]\tvalidation_0-logloss:0.01521\tvalidation_1-logloss:0.01623\n",
            "[42]\tvalidation_0-logloss:0.01520\tvalidation_1-logloss:0.01623\n",
            "[43]\tvalidation_0-logloss:0.01519\tvalidation_1-logloss:0.01623\n",
            "[44]\tvalidation_0-logloss:0.01518\tvalidation_1-logloss:0.01623\n",
            "[45]\tvalidation_0-logloss:0.01517\tvalidation_1-logloss:0.01622\n",
            "[46]\tvalidation_0-logloss:0.01517\tvalidation_1-logloss:0.01622\n",
            "[47]\tvalidation_0-logloss:0.01516\tvalidation_1-logloss:0.01622\n",
            "[48]\tvalidation_0-logloss:0.01515\tvalidation_1-logloss:0.01622\n",
            "[49]\tvalidation_0-logloss:0.01515\tvalidation_1-logloss:0.01622\n",
            "[50]\tvalidation_0-logloss:0.01514\tvalidation_1-logloss:0.01622\n",
            "[51]\tvalidation_0-logloss:0.01514\tvalidation_1-logloss:0.01622\n",
            "[52]\tvalidation_0-logloss:0.01514\tvalidation_1-logloss:0.01622\n",
            "[53]\tvalidation_0-logloss:0.01513\tvalidation_1-logloss:0.01622\n",
            "[54]\tvalidation_0-logloss:0.01513\tvalidation_1-logloss:0.01622\n",
            "[55]\tvalidation_0-logloss:0.01512\tvalidation_1-logloss:0.01621\n",
            "[56]\tvalidation_0-logloss:0.01512\tvalidation_1-logloss:0.01621\n",
            "[57]\tvalidation_0-logloss:0.01512\tvalidation_1-logloss:0.01621\n",
            "[58]\tvalidation_0-logloss:0.01511\tvalidation_1-logloss:0.01621\n",
            "[59]\tvalidation_0-logloss:0.01511\tvalidation_1-logloss:0.01621\n",
            "[60]\tvalidation_0-logloss:0.01511\tvalidation_1-logloss:0.01621\n",
            "[61]\tvalidation_0-logloss:0.01511\tvalidation_1-logloss:0.01621\n",
            "[62]\tvalidation_0-logloss:0.01510\tvalidation_1-logloss:0.01621\n",
            "[63]\tvalidation_0-logloss:0.01510\tvalidation_1-logloss:0.01621\n",
            "[64]\tvalidation_0-logloss:0.01510\tvalidation_1-logloss:0.01621\n",
            "[65]\tvalidation_0-logloss:0.01510\tvalidation_1-logloss:0.01621\n",
            "[66]\tvalidation_0-logloss:0.01510\tvalidation_1-logloss:0.01621\n",
            "[67]\tvalidation_0-logloss:0.01509\tvalidation_1-logloss:0.01621\n",
            "[68]\tvalidation_0-logloss:0.01509\tvalidation_1-logloss:0.01621\n",
            "[69]\tvalidation_0-logloss:0.01509\tvalidation_1-logloss:0.01621\n",
            "[70]\tvalidation_0-logloss:0.01509\tvalidation_1-logloss:0.01621\n",
            "[71]\tvalidation_0-logloss:0.01509\tvalidation_1-logloss:0.01621\n",
            "[72]\tvalidation_0-logloss:0.01508\tvalidation_1-logloss:0.01621\n",
            "[73]\tvalidation_0-logloss:0.01508\tvalidation_1-logloss:0.01621\n",
            "[74]\tvalidation_0-logloss:0.01508\tvalidation_1-logloss:0.01621\n",
            "[75]\tvalidation_0-logloss:0.01508\tvalidation_1-logloss:0.01621\n",
            "[76]\tvalidation_0-logloss:0.01508\tvalidation_1-logloss:0.01621\n",
            "[77]\tvalidation_0-logloss:0.01508\tvalidation_1-logloss:0.01621\n",
            "[78]\tvalidation_0-logloss:0.01507\tvalidation_1-logloss:0.01621\n",
            "[79]\tvalidation_0-logloss:0.01507\tvalidation_1-logloss:0.01621\n",
            "[80]\tvalidation_0-logloss:0.01507\tvalidation_1-logloss:0.01621\n",
            "[81]\tvalidation_0-logloss:0.01507\tvalidation_1-logloss:0.01621\n",
            "[82]\tvalidation_0-logloss:0.01507\tvalidation_1-logloss:0.01621\n",
            "[83]\tvalidation_0-logloss:0.01507\tvalidation_1-logloss:0.01621\n",
            "[84]\tvalidation_0-logloss:0.01507\tvalidation_1-logloss:0.01621\n",
            "[85]\tvalidation_0-logloss:0.01506\tvalidation_1-logloss:0.01621\n",
            "[86]\tvalidation_0-logloss:0.01506\tvalidation_1-logloss:0.01621\n",
            "[87]\tvalidation_0-logloss:0.01506\tvalidation_1-logloss:0.01621\n",
            "[88]\tvalidation_0-logloss:0.01506\tvalidation_1-logloss:0.01621\n",
            "[89]\tvalidation_0-logloss:0.01506\tvalidation_1-logloss:0.01621\n",
            "[90]\tvalidation_0-logloss:0.01506\tvalidation_1-logloss:0.01621\n",
            "[91]\tvalidation_0-logloss:0.01506\tvalidation_1-logloss:0.01621\n",
            "[92]\tvalidation_0-logloss:0.01506\tvalidation_1-logloss:0.01621\n",
            "[93]\tvalidation_0-logloss:0.01505\tvalidation_1-logloss:0.01621\n",
            "[94]\tvalidation_0-logloss:0.01505\tvalidation_1-logloss:0.01621\n",
            "[95]\tvalidation_0-logloss:0.01505\tvalidation_1-logloss:0.01621\n",
            "[96]\tvalidation_0-logloss:0.01505\tvalidation_1-logloss:0.01621\n",
            "[97]\tvalidation_0-logloss:0.01505\tvalidation_1-logloss:0.01621\n",
            "[98]\tvalidation_0-logloss:0.01505\tvalidation_1-logloss:0.01622\n",
            "[99]\tvalidation_0-logloss:0.01505\tvalidation_1-logloss:0.01621\n"
          ]
        },
        {
          "output_type": "execute_result",
          "data": {
            "text/plain": [
              "XGBClassifier(base_score=None, booster=None, callbacks=None,\n",
              "              colsample_bylevel=None, colsample_bynode=None,\n",
              "              colsample_bytree=None, early_stopping_rounds=None,\n",
              "              enable_categorical=True, eval_metric=None, feature_types=None,\n",
              "              gamma=None, gpu_id=None, grow_policy=None, importance_type=None,\n",
              "              interaction_constraints=None, learning_rate=None, max_bin=None,\n",
              "              max_cat_threshold=None, max_cat_to_onehot=1, max_delta_step=None,\n",
              "              max_depth=None, max_leaves=None, min_child_weight=None,\n",
              "              missing=nan, monotone_constraints=None, n_estimators=100,\n",
              "              n_jobs=None, num_parallel_tree=None, predictor=None,\n",
              "              random_state=None, ...)"
            ],
            "text/html": [
              "<style>#sk-container-id-3 {color: black;background-color: white;}#sk-container-id-3 pre{padding: 0;}#sk-container-id-3 div.sk-toggleable {background-color: white;}#sk-container-id-3 label.sk-toggleable__label {cursor: pointer;display: block;width: 100%;margin-bottom: 0;padding: 0.3em;box-sizing: border-box;text-align: center;}#sk-container-id-3 label.sk-toggleable__label-arrow:before {content: \"▸\";float: left;margin-right: 0.25em;color: #696969;}#sk-container-id-3 label.sk-toggleable__label-arrow:hover:before {color: black;}#sk-container-id-3 div.sk-estimator:hover label.sk-toggleable__label-arrow:before {color: black;}#sk-container-id-3 div.sk-toggleable__content {max-height: 0;max-width: 0;overflow: hidden;text-align: left;background-color: #f0f8ff;}#sk-container-id-3 div.sk-toggleable__content pre {margin: 0.2em;color: black;border-radius: 0.25em;background-color: #f0f8ff;}#sk-container-id-3 input.sk-toggleable__control:checked~div.sk-toggleable__content {max-height: 200px;max-width: 100%;overflow: auto;}#sk-container-id-3 input.sk-toggleable__control:checked~label.sk-toggleable__label-arrow:before {content: \"▾\";}#sk-container-id-3 div.sk-estimator input.sk-toggleable__control:checked~label.sk-toggleable__label {background-color: #d4ebff;}#sk-container-id-3 div.sk-label input.sk-toggleable__control:checked~label.sk-toggleable__label {background-color: #d4ebff;}#sk-container-id-3 input.sk-hidden--visually {border: 0;clip: rect(1px 1px 1px 1px);clip: rect(1px, 1px, 1px, 1px);height: 1px;margin: -1px;overflow: hidden;padding: 0;position: absolute;width: 1px;}#sk-container-id-3 div.sk-estimator {font-family: monospace;background-color: #f0f8ff;border: 1px dotted black;border-radius: 0.25em;box-sizing: border-box;margin-bottom: 0.5em;}#sk-container-id-3 div.sk-estimator:hover {background-color: #d4ebff;}#sk-container-id-3 div.sk-parallel-item::after {content: \"\";width: 100%;border-bottom: 1px solid gray;flex-grow: 1;}#sk-container-id-3 div.sk-label:hover label.sk-toggleable__label {background-color: #d4ebff;}#sk-container-id-3 div.sk-serial::before {content: \"\";position: absolute;border-left: 1px solid gray;box-sizing: border-box;top: 0;bottom: 0;left: 50%;z-index: 0;}#sk-container-id-3 div.sk-serial {display: flex;flex-direction: column;align-items: center;background-color: white;padding-right: 0.2em;padding-left: 0.2em;position: relative;}#sk-container-id-3 div.sk-item {position: relative;z-index: 1;}#sk-container-id-3 div.sk-parallel {display: flex;align-items: stretch;justify-content: center;background-color: white;position: relative;}#sk-container-id-3 div.sk-item::before, #sk-container-id-3 div.sk-parallel-item::before {content: \"\";position: absolute;border-left: 1px solid gray;box-sizing: border-box;top: 0;bottom: 0;left: 50%;z-index: -1;}#sk-container-id-3 div.sk-parallel-item {display: flex;flex-direction: column;z-index: 1;position: relative;background-color: white;}#sk-container-id-3 div.sk-parallel-item:first-child::after {align-self: flex-end;width: 50%;}#sk-container-id-3 div.sk-parallel-item:last-child::after {align-self: flex-start;width: 50%;}#sk-container-id-3 div.sk-parallel-item:only-child::after {width: 0;}#sk-container-id-3 div.sk-dashed-wrapped {border: 1px dashed gray;margin: 0 0.4em 0.5em 0.4em;box-sizing: border-box;padding-bottom: 0.4em;background-color: white;}#sk-container-id-3 div.sk-label label {font-family: monospace;font-weight: bold;display: inline-block;line-height: 1.2em;}#sk-container-id-3 div.sk-label-container {text-align: center;}#sk-container-id-3 div.sk-container {/* jupyter's `normalize.less` sets `[hidden] { display: none; }` but bootstrap.min.css set `[hidden] { display: none !important; }` so we also need the `!important` here to be able to override the default hidden behavior on the sphinx rendered scikit-learn.org. See: https://github.com/scikit-learn/scikit-learn/issues/21755 */display: inline-block !important;position: relative;}#sk-container-id-3 div.sk-text-repr-fallback {display: none;}</style><div id=\"sk-container-id-3\" class=\"sk-top-container\"><div class=\"sk-text-repr-fallback\"><pre>XGBClassifier(base_score=None, booster=None, callbacks=None,\n",
              "              colsample_bylevel=None, colsample_bynode=None,\n",
              "              colsample_bytree=None, early_stopping_rounds=None,\n",
              "              enable_categorical=True, eval_metric=None, feature_types=None,\n",
              "              gamma=None, gpu_id=None, grow_policy=None, importance_type=None,\n",
              "              interaction_constraints=None, learning_rate=None, max_bin=None,\n",
              "              max_cat_threshold=None, max_cat_to_onehot=1, max_delta_step=None,\n",
              "              max_depth=None, max_leaves=None, min_child_weight=None,\n",
              "              missing=nan, monotone_constraints=None, n_estimators=100,\n",
              "              n_jobs=None, num_parallel_tree=None, predictor=None,\n",
              "              random_state=None, ...)</pre><b>In a Jupyter environment, please rerun this cell to show the HTML representation or trust the notebook. <br />On GitHub, the HTML representation is unable to render, please try loading this page with nbviewer.org.</b></div><div class=\"sk-container\" hidden><div class=\"sk-item\"><div class=\"sk-estimator sk-toggleable\"><input class=\"sk-toggleable__control sk-hidden--visually\" id=\"sk-estimator-id-3\" type=\"checkbox\" checked><label for=\"sk-estimator-id-3\" class=\"sk-toggleable__label sk-toggleable__label-arrow\">XGBClassifier</label><div class=\"sk-toggleable__content\"><pre>XGBClassifier(base_score=None, booster=None, callbacks=None,\n",
              "              colsample_bylevel=None, colsample_bynode=None,\n",
              "              colsample_bytree=None, early_stopping_rounds=None,\n",
              "              enable_categorical=True, eval_metric=None, feature_types=None,\n",
              "              gamma=None, gpu_id=None, grow_policy=None, importance_type=None,\n",
              "              interaction_constraints=None, learning_rate=None, max_bin=None,\n",
              "              max_cat_threshold=None, max_cat_to_onehot=1, max_delta_step=None,\n",
              "              max_depth=None, max_leaves=None, min_child_weight=None,\n",
              "              missing=nan, monotone_constraints=None, n_estimators=100,\n",
              "              n_jobs=None, num_parallel_tree=None, predictor=None,\n",
              "              random_state=None, ...)</pre></div></div></div></div></div>"
            ]
          },
          "metadata": {},
          "execution_count": 84
        }
      ]
    },
    {
      "cell_type": "code",
      "source": [
        "# preparing evaluation metric plots\n",
        "results = clf_v2.evals_result()\n",
        "epochs = len(results['validation_0']['logloss'])\n",
        "x_axis = range(0, epochs)\n",
        "\n",
        "# xgboost 'logloss' plot\n",
        "fig, ax = plt.subplots(figsize=(9,5))\n",
        "ax.plot(x_axis, results['validation_0']['logloss'], label='Train')\n",
        "ax.plot(x_axis, results['validation_1']['logloss'], label='Test')\n",
        "ax.legend()\n",
        "plt.ylabel('logloss')\n",
        "plt.title('GridSearchCV XGBoost logloss')\n",
        "plt.show()"
      ],
      "metadata": {
        "colab": {
          "base_uri": "https://localhost:8080/",
          "height": 468
        },
        "id": "AXsZXNA77A_s",
        "outputId": "953f8932-8fef-4ff1-e780-c3d5db32ad63"
      },
      "execution_count": null,
      "outputs": [
        {
          "output_type": "display_data",
          "data": {
            "text/plain": [
              "<Figure size 900x500 with 1 Axes>"
            ],
            "image/png": "[encoded data removed]"
          },
          "metadata": {}
        }
      ]
    },
    {
      "cell_type": "markdown",
      "source": [
        "### Prediction"
      ],
      "metadata": {
        "id": "DnZHyjn3mDax"
      }
    },
    {
      "cell_type": "code",
      "source": [
        "y_test_pred2=clf_v2.predict(complete_test_data['KEYWORDS'])\n",
        "y_test_pred2"
      ],
      "metadata": {
        "colab": {
          "base_uri": "https://localhost:8080/"
        },
        "id": "inB__NlmAuNn",
        "outputId": "e9b9cc42-dbc0-4405-b48d-d565e519294c"
      },
      "execution_count": null,
      "outputs": [
        {
          "output_type": "execute_result",
          "data": {
            "text/plain": [
              "array([[0., 0., 0., ..., 0., 0., 0.],\n",
              "       [0., 0., 0., ..., 0., 0., 0.],\n",
              "       [0., 0., 0., ..., 0., 0., 0.],\n",
              "       ...,\n",
              "       [0., 0., 0., ..., 0., 0., 0.],\n",
              "       [0., 0., 0., ..., 0., 0., 0.],\n",
              "       [0., 0., 0., ..., 0., 0., 0.]])"
            ]
          },
          "metadata": {},
          "execution_count": 124
        }
      ]
    },
    {
      "cell_type": "code",
      "source": [
        "y_test_pred2=pd.DataFrame(data=y_test_pred2,columns=columns_names)"
      ],
      "metadata": {
        "id": "g9-m5s6AB9oP"
      },
      "execution_count": null,
      "outputs": []
    },
    {
      "cell_type": "code",
      "source": [
        "output2=y_test_pred2.idxmax(1)"
      ],
      "metadata": {
        "id": "AMaPuxGWCkiM"
      },
      "execution_count": null,
      "outputs": []
    },
    {
      "cell_type": "code",
      "source": [
        "output3=pd.DataFrame()\n",
        "output3['TAXONOMY']=output2"
      ],
      "metadata": {
        "id": "MACZy7hdC7xW"
      },
      "execution_count": null,
      "outputs": []
    },
    {
      "cell_type": "code",
      "source": [
        "output3=pd.concat([Output,output3],axis=1)"
      ],
      "metadata": {
        "id": "qlZZ5HdBC-nj"
      },
      "execution_count": null,
      "outputs": []
    },
    {
      "cell_type": "markdown",
      "source": [
        "### Output file"
      ],
      "metadata": {
        "id": "5PJ9sWjomXqq"
      }
    },
    {
      "cell_type": "code",
      "source": [
        "output_file2='/content/drive/MyDrive/Colab Notebooks/data/Output_including_TAXONOMY.csv'\n",
        "output3.to_csv(output_file2,index=False)"
      ],
      "metadata": {
        "id": "u_9cRuJaFVlh"
      },
      "execution_count": null,
      "outputs": []
    }
  ],
  "metadata": {
    "colab": {
      "provenance": [],
      "gpuType": "T4"
    },
    "kernelspec": {
      "display_name": "Python 3",
      "name": "python3"
    },
    "language_info": {
      "name": "python"
    },
    "accelerator": "GPU"
  },
  "nbformat": 4,
  "nbformat_minor": 0
}